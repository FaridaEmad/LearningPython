{
  "cells": [
    {
      "cell_type": "code",
      "execution_count": null,
      "id": "3d41660d-4135-491b-9b81-32d4f226f21e",
      "metadata": {
        "id": "3d41660d-4135-491b-9b81-32d4f226f21e"
      },
      "outputs": [],
      "source": [
        "import pandas as pd\n",
        "from sklearn.model_selection import train_test_split\n",
        "from sklearn.impute import SimpleImputer\n",
        "from sklearn.ensemble import RandomForestClassifier\n",
        "from sklearn.metrics import confusion_matrix, accuracy_score, ConfusionMatrixDisplay, classification_report\n",
        "from sklearn.preprocessing import StandardScaler, OneHotEncoder\n",
        "import matplotlib.pyplot as plt\n",
        "import numpy as np"
      ]
    },
    {
      "cell_type": "code",
      "execution_count": null,
      "id": "9ed20126-39d3-4808-967b-d605ef827d34",
      "metadata": {
        "id": "9ed20126-39d3-4808-967b-d605ef827d34",
        "outputId": "9ba85d2a-5be4-47c3-b8ff-0159b1de9f92"
      },
      "outputs": [
        {
          "data": {
            "text/html": [
              "<div>\n",
              "<style scoped>\n",
              "    .dataframe tbody tr th:only-of-type {\n",
              "        vertical-align: middle;\n",
              "    }\n",
              "\n",
              "    .dataframe tbody tr th {\n",
              "        vertical-align: top;\n",
              "    }\n",
              "\n",
              "    .dataframe thead th {\n",
              "        text-align: right;\n",
              "    }\n",
              "</style>\n",
              "<table border=\"1\" class=\"dataframe\">\n",
              "  <thead>\n",
              "    <tr style=\"text-align: right;\">\n",
              "      <th></th>\n",
              "      <th>sepal_length</th>\n",
              "      <th>sepal_width</th>\n",
              "      <th>petal_length</th>\n",
              "      <th>petal_width</th>\n",
              "      <th>species</th>\n",
              "    </tr>\n",
              "  </thead>\n",
              "  <tbody>\n",
              "    <tr>\n",
              "      <th>0</th>\n",
              "      <td>5.1</td>\n",
              "      <td>3.5</td>\n",
              "      <td>1.4</td>\n",
              "      <td>0.2</td>\n",
              "      <td>setosa</td>\n",
              "    </tr>\n",
              "    <tr>\n",
              "      <th>1</th>\n",
              "      <td>4.9</td>\n",
              "      <td>3.0</td>\n",
              "      <td>1.4</td>\n",
              "      <td>0.2</td>\n",
              "      <td>setosa</td>\n",
              "    </tr>\n",
              "    <tr>\n",
              "      <th>2</th>\n",
              "      <td>4.7</td>\n",
              "      <td>3.2</td>\n",
              "      <td>1.3</td>\n",
              "      <td>0.2</td>\n",
              "      <td>setosa</td>\n",
              "    </tr>\n",
              "    <tr>\n",
              "      <th>3</th>\n",
              "      <td>4.6</td>\n",
              "      <td>3.1</td>\n",
              "      <td>1.5</td>\n",
              "      <td>0.2</td>\n",
              "      <td>setosa</td>\n",
              "    </tr>\n",
              "    <tr>\n",
              "      <th>4</th>\n",
              "      <td>5.0</td>\n",
              "      <td>3.6</td>\n",
              "      <td>1.4</td>\n",
              "      <td>0.2</td>\n",
              "      <td>setosa</td>\n",
              "    </tr>\n",
              "    <tr>\n",
              "      <th>...</th>\n",
              "      <td>...</td>\n",
              "      <td>...</td>\n",
              "      <td>...</td>\n",
              "      <td>...</td>\n",
              "      <td>...</td>\n",
              "    </tr>\n",
              "    <tr>\n",
              "      <th>145</th>\n",
              "      <td>6.7</td>\n",
              "      <td>3.0</td>\n",
              "      <td>5.2</td>\n",
              "      <td>2.3</td>\n",
              "      <td>virginica</td>\n",
              "    </tr>\n",
              "    <tr>\n",
              "      <th>146</th>\n",
              "      <td>NaN</td>\n",
              "      <td>2.5</td>\n",
              "      <td>5.0</td>\n",
              "      <td>1.9</td>\n",
              "      <td>virginica</td>\n",
              "    </tr>\n",
              "    <tr>\n",
              "      <th>147</th>\n",
              "      <td>6.5</td>\n",
              "      <td>3.0</td>\n",
              "      <td>5.2</td>\n",
              "      <td>2.0</td>\n",
              "      <td>virginica</td>\n",
              "    </tr>\n",
              "    <tr>\n",
              "      <th>148</th>\n",
              "      <td>6.2</td>\n",
              "      <td>3.4</td>\n",
              "      <td>5.4</td>\n",
              "      <td>2.3</td>\n",
              "      <td>virginica</td>\n",
              "    </tr>\n",
              "    <tr>\n",
              "      <th>149</th>\n",
              "      <td>5.9</td>\n",
              "      <td>3.0</td>\n",
              "      <td>NaN</td>\n",
              "      <td>1.8</td>\n",
              "      <td>virginica</td>\n",
              "    </tr>\n",
              "  </tbody>\n",
              "</table>\n",
              "<p>150 rows × 5 columns</p>\n",
              "</div>"
            ],
            "text/plain": [
              "     sepal_length  sepal_width  petal_length  petal_width    species\n",
              "0             5.1          3.5           1.4          0.2     setosa\n",
              "1             4.9          3.0           1.4          0.2     setosa\n",
              "2             4.7          3.2           1.3          0.2     setosa\n",
              "3             4.6          3.1           1.5          0.2     setosa\n",
              "4             5.0          3.6           1.4          0.2     setosa\n",
              "..            ...          ...           ...          ...        ...\n",
              "145           6.7          3.0           5.2          2.3  virginica\n",
              "146           NaN          2.5           5.0          1.9  virginica\n",
              "147           6.5          3.0           5.2          2.0  virginica\n",
              "148           6.2          3.4           5.4          2.3  virginica\n",
              "149           5.9          3.0           NaN          1.8  virginica\n",
              "\n",
              "[150 rows x 5 columns]"
            ]
          },
          "execution_count": 3,
          "metadata": {},
          "output_type": "execute_result"
        }
      ],
      "source": [
        "from google.colab import drive\n",
        "drive.mount('/content/drive')"
      ]
    },
    {
      "cell_type": "code",
      "execution_count": null,
      "id": "2bc50912-b8b9-4013-952b-5eec22736173",
      "metadata": {
        "id": "2bc50912-b8b9-4013-952b-5eec22736173",
        "outputId": "83e632ae-a6cd-436d-ffd5-a58b7b888bcd"
      },
      "outputs": [
        {
          "data": {
            "text/plain": [
              "sepal_length    4\n",
              "sepal_width     4\n",
              "petal_length    5\n",
              "petal_width     2\n",
              "species         0\n",
              "dtype: int64"
            ]
          },
          "execution_count": 6,
          "metadata": {},
          "output_type": "execute_result"
        }
      ],
      "source": [
        "data.isna().sum()"
      ]
    },
    {
      "cell_type": "code",
      "execution_count": null,
      "id": "2a2cf47a-432f-4e18-8020-965d7c81a0e7",
      "metadata": {
        "id": "2a2cf47a-432f-4e18-8020-965d7c81a0e7",
        "outputId": "7abcc46a-0288-4662-dd3a-11be608f1ee1"
      },
      "outputs": [
        {
          "data": {
            "text/plain": [
              "'species'"
            ]
          },
          "execution_count": 14,
          "metadata": {},
          "output_type": "execute_result"
        }
      ],
      "source": [
        "target_column = data.columns[-1]\n",
        "target_column"
      ]
    },
    {
      "cell_type": "code",
      "execution_count": null,
      "id": "0be1ba15-f789-40c2-9b01-247cb4cded24",
      "metadata": {
        "id": "0be1ba15-f789-40c2-9b01-247cb4cded24",
        "outputId": "8b22d54c-dc0b-4091-c1f9-b77f5075d646"
      },
      "outputs": [
        {
          "data": {
            "text/plain": [
              "Index(['sepal_length', 'sepal_width', 'petal_length', 'petal_width'], dtype='object')"
            ]
          },
          "execution_count": 18,
          "metadata": {},
          "output_type": "execute_result"
        }
      ],
      "source": [
        "feature_columns = data.columns[:-1]\n",
        "feature_columns"
      ]
    },
    {
      "cell_type": "code",
      "execution_count": null,
      "id": "fbfd36f8-e37f-4178-8fc0-6bf16bc5b373",
      "metadata": {
        "id": "fbfd36f8-e37f-4178-8fc0-6bf16bc5b373",
        "outputId": "a996142f-9e62-47b9-cfdb-5c88c2c588a0"
      },
      "outputs": [
        {
          "data": {
            "text/html": [
              "<div>\n",
              "<style scoped>\n",
              "    .dataframe tbody tr th:only-of-type {\n",
              "        vertical-align: middle;\n",
              "    }\n",
              "\n",
              "    .dataframe tbody tr th {\n",
              "        vertical-align: top;\n",
              "    }\n",
              "\n",
              "    .dataframe thead th {\n",
              "        text-align: right;\n",
              "    }\n",
              "</style>\n",
              "<table border=\"1\" class=\"dataframe\">\n",
              "  <thead>\n",
              "    <tr style=\"text-align: right;\">\n",
              "      <th></th>\n",
              "      <th>sepal_length</th>\n",
              "      <th>sepal_width</th>\n",
              "      <th>petal_length</th>\n",
              "      <th>petal_width</th>\n",
              "      <th>species</th>\n",
              "    </tr>\n",
              "  </thead>\n",
              "  <tbody>\n",
              "    <tr>\n",
              "      <th>0</th>\n",
              "      <td>5.100000</td>\n",
              "      <td>3.5</td>\n",
              "      <td>1.400000</td>\n",
              "      <td>0.2</td>\n",
              "      <td>setosa</td>\n",
              "    </tr>\n",
              "    <tr>\n",
              "      <th>1</th>\n",
              "      <td>4.900000</td>\n",
              "      <td>3.0</td>\n",
              "      <td>1.400000</td>\n",
              "      <td>0.2</td>\n",
              "      <td>setosa</td>\n",
              "    </tr>\n",
              "    <tr>\n",
              "      <th>2</th>\n",
              "      <td>4.700000</td>\n",
              "      <td>3.2</td>\n",
              "      <td>1.300000</td>\n",
              "      <td>0.2</td>\n",
              "      <td>setosa</td>\n",
              "    </tr>\n",
              "    <tr>\n",
              "      <th>3</th>\n",
              "      <td>4.600000</td>\n",
              "      <td>3.1</td>\n",
              "      <td>1.500000</td>\n",
              "      <td>0.2</td>\n",
              "      <td>setosa</td>\n",
              "    </tr>\n",
              "    <tr>\n",
              "      <th>4</th>\n",
              "      <td>5.000000</td>\n",
              "      <td>3.6</td>\n",
              "      <td>1.400000</td>\n",
              "      <td>0.2</td>\n",
              "      <td>setosa</td>\n",
              "    </tr>\n",
              "    <tr>\n",
              "      <th>...</th>\n",
              "      <td>...</td>\n",
              "      <td>...</td>\n",
              "      <td>...</td>\n",
              "      <td>...</td>\n",
              "      <td>...</td>\n",
              "    </tr>\n",
              "    <tr>\n",
              "      <th>145</th>\n",
              "      <td>6.700000</td>\n",
              "      <td>3.0</td>\n",
              "      <td>5.200000</td>\n",
              "      <td>2.3</td>\n",
              "      <td>virginica</td>\n",
              "    </tr>\n",
              "    <tr>\n",
              "      <th>146</th>\n",
              "      <td>5.844521</td>\n",
              "      <td>2.5</td>\n",
              "      <td>5.000000</td>\n",
              "      <td>1.9</td>\n",
              "      <td>virginica</td>\n",
              "    </tr>\n",
              "    <tr>\n",
              "      <th>147</th>\n",
              "      <td>6.500000</td>\n",
              "      <td>3.0</td>\n",
              "      <td>5.200000</td>\n",
              "      <td>2.0</td>\n",
              "      <td>virginica</td>\n",
              "    </tr>\n",
              "    <tr>\n",
              "      <th>148</th>\n",
              "      <td>6.200000</td>\n",
              "      <td>3.4</td>\n",
              "      <td>5.400000</td>\n",
              "      <td>2.3</td>\n",
              "      <td>virginica</td>\n",
              "    </tr>\n",
              "    <tr>\n",
              "      <th>149</th>\n",
              "      <td>5.900000</td>\n",
              "      <td>3.0</td>\n",
              "      <td>3.812414</td>\n",
              "      <td>1.8</td>\n",
              "      <td>virginica</td>\n",
              "    </tr>\n",
              "  </tbody>\n",
              "</table>\n",
              "<p>150 rows × 5 columns</p>\n",
              "</div>"
            ],
            "text/plain": [
              "     sepal_length  sepal_width  petal_length  petal_width    species\n",
              "0        5.100000          3.5      1.400000          0.2     setosa\n",
              "1        4.900000          3.0      1.400000          0.2     setosa\n",
              "2        4.700000          3.2      1.300000          0.2     setosa\n",
              "3        4.600000          3.1      1.500000          0.2     setosa\n",
              "4        5.000000          3.6      1.400000          0.2     setosa\n",
              "..            ...          ...           ...          ...        ...\n",
              "145      6.700000          3.0      5.200000          2.3  virginica\n",
              "146      5.844521          2.5      5.000000          1.9  virginica\n",
              "147      6.500000          3.0      5.200000          2.0  virginica\n",
              "148      6.200000          3.4      5.400000          2.3  virginica\n",
              "149      5.900000          3.0      3.812414          1.8  virginica\n",
              "\n",
              "[150 rows x 5 columns]"
            ]
          },
          "execution_count": 22,
          "metadata": {},
          "output_type": "execute_result"
        }
      ],
      "source": [
        "imputer = SimpleImputer(strategy='mean')\n",
        "data[feature_columns] = imputer.fit_transform(data[feature_columns])\n",
        "data"
      ]
    },
    {
      "cell_type": "code",
      "execution_count": null,
      "id": "2bd32569-9fd9-4ae2-9011-b02d35b1d9b4",
      "metadata": {
        "id": "2bd32569-9fd9-4ae2-9011-b02d35b1d9b4",
        "outputId": "2e588985-3563-4d96-8e1d-082bc7a2cb28"
      },
      "outputs": [
        {
          "data": {
            "text/plain": [
              "array([[1., 0., 0.],\n",
              "       [1., 0., 0.],\n",
              "       [1., 0., 0.],\n",
              "       [1., 0., 0.],\n",
              "       [1., 0., 0.],\n",
              "       [1., 0., 0.],\n",
              "       [1., 0., 0.],\n",
              "       [1., 0., 0.],\n",
              "       [1., 0., 0.],\n",
              "       [1., 0., 0.],\n",
              "       [1., 0., 0.],\n",
              "       [1., 0., 0.],\n",
              "       [1., 0., 0.],\n",
              "       [1., 0., 0.],\n",
              "       [1., 0., 0.],\n",
              "       [1., 0., 0.],\n",
              "       [1., 0., 0.],\n",
              "       [1., 0., 0.],\n",
              "       [1., 0., 0.],\n",
              "       [1., 0., 0.],\n",
              "       [1., 0., 0.],\n",
              "       [1., 0., 0.],\n",
              "       [1., 0., 0.],\n",
              "       [1., 0., 0.],\n",
              "       [1., 0., 0.],\n",
              "       [1., 0., 0.],\n",
              "       [1., 0., 0.],\n",
              "       [1., 0., 0.],\n",
              "       [1., 0., 0.],\n",
              "       [1., 0., 0.],\n",
              "       [1., 0., 0.],\n",
              "       [1., 0., 0.],\n",
              "       [1., 0., 0.],\n",
              "       [1., 0., 0.],\n",
              "       [1., 0., 0.],\n",
              "       [1., 0., 0.],\n",
              "       [1., 0., 0.],\n",
              "       [1., 0., 0.],\n",
              "       [1., 0., 0.],\n",
              "       [1., 0., 0.],\n",
              "       [1., 0., 0.],\n",
              "       [1., 0., 0.],\n",
              "       [1., 0., 0.],\n",
              "       [1., 0., 0.],\n",
              "       [1., 0., 0.],\n",
              "       [1., 0., 0.],\n",
              "       [1., 0., 0.],\n",
              "       [1., 0., 0.],\n",
              "       [1., 0., 0.],\n",
              "       [1., 0., 0.],\n",
              "       [0., 1., 0.],\n",
              "       [0., 1., 0.],\n",
              "       [0., 1., 0.],\n",
              "       [0., 1., 0.],\n",
              "       [0., 1., 0.],\n",
              "       [0., 1., 0.],\n",
              "       [0., 1., 0.],\n",
              "       [0., 1., 0.],\n",
              "       [0., 1., 0.],\n",
              "       [0., 1., 0.],\n",
              "       [0., 1., 0.],\n",
              "       [0., 1., 0.],\n",
              "       [0., 1., 0.],\n",
              "       [0., 1., 0.],\n",
              "       [0., 1., 0.],\n",
              "       [0., 1., 0.],\n",
              "       [0., 1., 0.],\n",
              "       [0., 1., 0.],\n",
              "       [0., 1., 0.],\n",
              "       [0., 1., 0.],\n",
              "       [0., 1., 0.],\n",
              "       [0., 1., 0.],\n",
              "       [0., 1., 0.],\n",
              "       [0., 1., 0.],\n",
              "       [0., 1., 0.],\n",
              "       [0., 1., 0.],\n",
              "       [0., 1., 0.],\n",
              "       [0., 1., 0.],\n",
              "       [0., 1., 0.],\n",
              "       [0., 1., 0.],\n",
              "       [0., 1., 0.],\n",
              "       [0., 1., 0.],\n",
              "       [0., 1., 0.],\n",
              "       [0., 1., 0.],\n",
              "       [0., 1., 0.],\n",
              "       [0., 1., 0.],\n",
              "       [0., 1., 0.],\n",
              "       [0., 1., 0.],\n",
              "       [0., 1., 0.],\n",
              "       [0., 1., 0.],\n",
              "       [0., 1., 0.],\n",
              "       [0., 1., 0.],\n",
              "       [0., 1., 0.],\n",
              "       [0., 1., 0.],\n",
              "       [0., 1., 0.],\n",
              "       [0., 1., 0.],\n",
              "       [0., 1., 0.],\n",
              "       [0., 1., 0.],\n",
              "       [0., 1., 0.],\n",
              "       [0., 1., 0.],\n",
              "       [0., 0., 1.],\n",
              "       [0., 0., 1.],\n",
              "       [0., 0., 1.],\n",
              "       [0., 0., 1.],\n",
              "       [0., 0., 1.],\n",
              "       [0., 0., 1.],\n",
              "       [0., 0., 1.],\n",
              "       [0., 0., 1.],\n",
              "       [0., 0., 1.],\n",
              "       [0., 0., 1.],\n",
              "       [0., 0., 1.],\n",
              "       [0., 0., 1.],\n",
              "       [0., 0., 1.],\n",
              "       [0., 0., 1.],\n",
              "       [0., 0., 1.],\n",
              "       [0., 0., 1.],\n",
              "       [0., 0., 1.],\n",
              "       [0., 0., 1.],\n",
              "       [0., 0., 1.],\n",
              "       [0., 0., 1.],\n",
              "       [0., 0., 1.],\n",
              "       [0., 0., 1.],\n",
              "       [0., 0., 1.],\n",
              "       [0., 0., 1.],\n",
              "       [0., 0., 1.],\n",
              "       [0., 0., 1.],\n",
              "       [0., 0., 1.],\n",
              "       [0., 0., 1.],\n",
              "       [0., 0., 1.],\n",
              "       [0., 0., 1.],\n",
              "       [0., 0., 1.],\n",
              "       [0., 0., 1.],\n",
              "       [0., 0., 1.],\n",
              "       [0., 0., 1.],\n",
              "       [0., 0., 1.],\n",
              "       [0., 0., 1.],\n",
              "       [0., 0., 1.],\n",
              "       [0., 0., 1.],\n",
              "       [0., 0., 1.],\n",
              "       [0., 0., 1.],\n",
              "       [0., 0., 1.],\n",
              "       [0., 0., 1.],\n",
              "       [0., 0., 1.],\n",
              "       [0., 0., 1.],\n",
              "       [0., 0., 1.],\n",
              "       [0., 0., 1.],\n",
              "       [0., 0., 1.],\n",
              "       [0., 0., 1.],\n",
              "       [0., 0., 1.],\n",
              "       [0., 0., 1.]])"
            ]
          },
          "execution_count": 26,
          "metadata": {},
          "output_type": "execute_result"
        }
      ],
      "source": [
        "encoder = OneHotEncoder(sparse_output=False)\n",
        "y = encoder.fit_transform(data[[target_column]])\n",
        "y"
      ]
    },
    {
      "cell_type": "code",
      "execution_count": null,
      "id": "e8d6dbc5-660a-4c68-b99c-bae702a87bfe",
      "metadata": {
        "id": "e8d6dbc5-660a-4c68-b99c-bae702a87bfe",
        "outputId": "399289e0-eec5-4182-e25a-77ce73cd0421"
      },
      "outputs": [
        {
          "data": {
            "text/plain": [
              "array([[-0.90885066,  1.07763964, -1.40730311, -1.3464961 ],\n",
              "       [-1.15299453, -0.10178605, -1.40730311, -1.3464961 ],\n",
              "       [-1.3971384 ,  0.36998423, -1.465639  , -1.3464961 ],\n",
              "       [-1.51921034,  0.13409909, -1.34896722, -1.3464961 ],\n",
              "       [-1.03092259,  1.31352478, -1.40730311, -1.3464961 ],\n",
              "       [-0.54263484,  2.0211802 , -1.23229543, -1.08043279],\n",
              "       [-1.51921034,  0.8417545 , -1.40730311, -1.21346444],\n",
              "       [-1.03092259,  0.8417545 ,  0.        , -1.3464961 ],\n",
              "       [-1.76335422, -0.33767119, -1.40730311, -1.3464961 ],\n",
              "       [-1.15299453,  0.13409909, -1.34896722, -1.47952776],\n",
              "       [-0.54263484,  1.54940992, -1.34896722, -1.3464961 ],\n",
              "       [ 0.        ,  0.8417545 , -1.29063133, -1.3464961 ],\n",
              "       [-1.27506647, -0.10178605, -1.40730311, -1.47952776],\n",
              "       [-1.88542615, -0.10178605, -1.58231079, -1.47952776],\n",
              "       [-0.0543471 ,  2.25706534, -1.52397489, -1.3464961 ],\n",
              "       [-0.17641903,  3.2006059 , -1.34896722, -1.08043279],\n",
              "       [-0.54263484,  0.        , -1.465639  , -1.08043279],\n",
              "       [-0.90885066,  1.07763964, -1.40730311, -1.21346444],\n",
              "       [-0.17641903,  1.78529506, -1.23229543, -1.21346444],\n",
              "       [-0.90885066,  1.78529506, -1.34896722, -1.21346444],\n",
              "       [-0.54263484,  0.8417545 , -1.23229543, -1.3464961 ],\n",
              "       [-0.90885066,  1.54940992,  0.        , -1.08043279],\n",
              "       [-1.51921034,  1.31352478, -1.64064668, -1.3464961 ],\n",
              "       [-0.90885066,  0.60586936, -1.23229543, -0.94740113],\n",
              "       [-1.27506647,  0.        , -1.11562365, -1.3464961 ],\n",
              "       [-1.03092259, -0.10178605, -1.29063133, -1.3464961 ],\n",
              "       [-1.03092259,  0.8417545 , -1.29063133, -1.08043279],\n",
              "       [-0.78677872,  0.        , -1.34896722, -1.3464961 ],\n",
              "       [-0.78677872,  0.8417545 , -1.40730311, -1.3464961 ],\n",
              "       [-1.3971384 ,  0.36998423, -1.29063133,  0.        ],\n",
              "       [-1.27506647,  0.13409909, -1.29063133,  0.        ],\n",
              "       [-0.54263484,  0.8417545 , -1.34896722, -1.08043279],\n",
              "       [-0.78677872,  2.49295048, -1.34896722, -1.47952776],\n",
              "       [-0.42056291,  2.72883562, -1.40730311, -1.3464961 ],\n",
              "       [-1.15299453,  0.13409909, -1.34896722, -1.47952776],\n",
              "       [-1.03092259,  0.36998423, -1.52397489, -1.3464961 ],\n",
              "       [-0.42056291,  1.07763964, -1.465639  , -1.3464961 ],\n",
              "       [-1.15299453,  0.13409909, -1.34896722, -1.47952776],\n",
              "       [-1.76335422, -0.10178605, -1.465639  , -1.3464961 ],\n",
              "       [-0.90885066,  0.8417545 , -1.34896722, -1.3464961 ],\n",
              "       [-1.03092259,  1.07763964, -1.465639  , -1.21346444],\n",
              "       [-1.64128228, -1.75298203, -1.465639  , -1.21346444],\n",
              "       [-1.76335422,  0.36998423, -1.465639  , -1.3464961 ],\n",
              "       [-1.03092259,  1.07763964, -1.29063133, -0.81436947],\n",
              "       [-0.90885066,  1.78529506, -1.11562365, -1.08043279],\n",
              "       [-1.27506647,  0.        , -1.40730311, -1.21346444],\n",
              "       [-0.90885066,  1.78529506, -1.29063133, -1.3464961 ],\n",
              "       [-1.51921034,  0.36998423, -1.40730311, -1.3464961 ],\n",
              "       [-0.66470678,  1.54940992,  0.        , -1.3464961 ],\n",
              "       [-1.03092259,  0.60586936,  0.        , -1.3464961 ],\n",
              "       [ 1.41051615,  0.36998423,  0.51778133,  0.24988379],\n",
              "       [ 0.67808453,  0.36998423,  0.40110955,  0.38291545],\n",
              "       [ 1.28844421,  0.13409909,  0.63445312,  0.38291545],\n",
              "       [-0.42056291, -1.75298203,  0.10943009,  0.11685213],\n",
              "       [ 0.80015647, -0.57355633,  0.45944544,  0.38291545],\n",
              "       [-0.17641903, -0.57355633,  0.40110955,  0.11685213],\n",
              "       [ 0.55601259,  0.60586936,  0.51778133,  0.5159471 ],\n",
              "       [-1.15299453, -1.51709689, -0.29892116, -0.28224284],\n",
              "       [ 0.9222284 , -0.33767119,  0.45944544,  0.11685213],\n",
              "       [-0.78677872, -0.80944147,  0.0510942 ,  0.24988379],\n",
              "       [-1.03092259, -2.46063745, -0.18224937, -0.28224284],\n",
              "       [ 0.06772484, -0.10178605,  0.22610187,  0.38291545],\n",
              "       [ 0.18979678, -1.98886717,  0.10943009, -0.28224284],\n",
              "       [ 0.31186872, -0.33767119,  0.51778133,  0.24988379],\n",
              "       [-0.29849097, -0.33767119, -0.12391348,  0.11685213],\n",
              "       [ 1.04430034,  0.13409909,  0.34277366,  0.24988379],\n",
              "       [-0.29849097, -0.10178605,  0.40110955,  0.38291545],\n",
              "       [-0.0543471 , -0.80944147,  0.16776598, -0.28224284],\n",
              "       [ 0.43394065, -1.98886717,  0.40110955,  0.38291545],\n",
              "       [-0.29849097, -1.28121175,  0.0510942 , -0.14921118],\n",
              "       [ 0.06772484,  0.36998423,  0.57611723,  0.78201042],\n",
              "       [ 0.31186872, -0.57355633,  0.10943009,  0.11685213],\n",
              "       [ 0.55601259, -1.28121175,  0.63445312,  0.38291545],\n",
              "       [ 0.31186872, -0.57355633,  0.51778133, -0.01617953],\n",
              "       [ 0.67808453, -0.33767119,  0.28443776,  0.11685213],\n",
              "       [ 0.9222284 , -0.10178605,  0.34277366,  0.24988379],\n",
              "       [ 1.16637228, -0.57355633,  0.57611723,  0.24988379],\n",
              "       [ 1.04430034, -0.10178605,  0.69278901,  0.64897876],\n",
              "       [ 0.18979678, -0.33767119,  0.40110955,  0.38291545],\n",
              "       [-0.17641903, -1.04532661, -0.18224937, -0.28224284],\n",
              "       [-0.42056291, -1.51709689, -0.0072417 , -0.14921118],\n",
              "       [-0.42056291, -1.51709689, -0.06557759, -0.28224284],\n",
              "       [-0.0543471 , -0.80944147,  0.0510942 , -0.01617953],\n",
              "       [ 0.18979678, -0.80944147,  0.7511249 ,  0.5159471 ],\n",
              "       [-0.54263484, -0.10178605,  0.40110955,  0.38291545],\n",
              "       [ 0.18979678,  0.8417545 ,  0.40110955,  0.5159471 ],\n",
              "       [ 1.04430034,  0.13409909,  0.51778133,  0.38291545],\n",
              "       [ 0.55601259, -1.75298203,  0.34277366,  0.11685213],\n",
              "       [-0.29849097, -0.10178605,  0.16776598,  0.11685213],\n",
              "       [-0.42056291, -1.28121175,  0.10943009,  0.11685213],\n",
              "       [-0.42056291, -1.04532661,  0.34277366, -0.01617953],\n",
              "       [ 0.31186872, -0.10178605,  0.45944544,  0.24988379],\n",
              "       [-0.0543471 , -1.04532661,  0.10943009, -0.01617953],\n",
              "       [-1.03092259, -1.75298203, -0.29892116, -0.28224284],\n",
              "       [-0.29849097, -0.80944147,  0.22610187,  0.11685213],\n",
              "       [-0.17641903, -0.10178605,  0.22610187, -0.01617953],\n",
              "       [-0.17641903, -0.33767119,  0.22610187,  0.11685213],\n",
              "       [ 0.43394065, -0.33767119,  0.28443776,  0.11685213],\n",
              "       [-0.90885066, -1.28121175, -0.47392883, -0.14921118],\n",
              "       [-0.17641903, -0.57355633,  0.16776598,  0.11685213],\n",
              "       [ 0.55601259,  0.60586936,  1.27614793,  1.71323202],\n",
              "       [-0.0543471 , -0.80944147,  0.7511249 ,  0.91504208],\n",
              "       [ 1.53258809, -0.10178605,  1.21781204,  1.18110539],\n",
              "       [ 0.55601259, -0.33767119,  1.04280436,  0.78201042],\n",
              "       [ 0.80015647, -0.10178605,  1.15947615,  1.31413705],\n",
              "       [ 2.14294777, -0.10178605,  1.62616328,  1.18110539],\n",
              "       [-1.15299453, -1.28121175,  0.40110955,  0.64897876],\n",
              "       [ 1.77673196, -0.33767119,  1.45115561,  0.78201042],\n",
              "       [ 1.04430034, -1.28121175,  1.15947615,  0.78201042],\n",
              "       [ 1.65466003,  1.31352478,  1.33448382,  1.71323202],\n",
              "       [ 0.80015647,  0.36998423,  0.7511249 ,  1.04807373],\n",
              "       [ 0.67808453, -0.80944147,  0.86779669,  0.91504208],\n",
              "       [ 1.16637228, -0.10178605,  0.98446847,  1.18110539],\n",
              "       [-0.17641903, -1.28121175,  0.69278901,  1.04807373],\n",
              "       [-0.0543471 , -0.57355633,  0.7511249 ,  1.58020036],\n",
              "       [ 0.67808453,  0.36998423,  0.86779669,  1.44716871],\n",
              "       [ 0.80015647, -0.10178605,  0.98446847,  0.78201042],\n",
              "       [ 2.26501971,  1.78529506,  1.68449918,  1.31413705],\n",
              "       [ 2.26501971, -1.04532661,  1.80117096,  1.44716871],\n",
              "       [ 0.18979678, -1.98886717,  0.69278901,  0.38291545],\n",
              "       [ 1.28844421,  0.36998423,  1.10114025,  1.44716871],\n",
              "       [-0.29849097, -0.57355633,  0.63445312,  1.04807373],\n",
              "       [ 2.26501971, -0.57355633,  1.68449918,  1.04807373],\n",
              "       [ 0.55601259, -0.80944147,  0.63445312,  0.78201042],\n",
              "       [ 1.04430034,  0.60586936,  1.10114025,  1.18110539],\n",
              "       [ 1.65466003,  0.36998423,  1.27614793,  0.78201042],\n",
              "       [ 0.43394065, -0.57355633,  0.57611723,  0.78201042],\n",
              "       [ 0.31186872, -0.10178605,  0.63445312,  0.78201042],\n",
              "       [ 0.67808453, -0.57355633,  1.04280436,  1.18110539],\n",
              "       [ 1.65466003, -0.10178605,  1.15947615,  0.5159471 ],\n",
              "       [ 1.8988039 , -0.57355633,  1.33448382,  0.91504208],\n",
              "       [ 2.50916359,  1.78529506,  1.5094915 ,  1.04807373],\n",
              "       [ 0.67808453, -0.57355633,  1.04280436,  1.31413705],\n",
              "       [ 0.55601259, -0.57355633,  0.7511249 ,  0.38291545],\n",
              "       [ 0.31186872, -1.04532661,  1.04280436,  0.24988379],\n",
              "       [ 2.26501971, -0.10178605,  1.33448382,  1.44716871],\n",
              "       [ 0.        ,  0.8417545 ,  1.04280436,  1.58020036],\n",
              "       [ 0.67808453,  0.13409909,  0.98446847,  0.78201042],\n",
              "       [ 0.18979678, -0.10178605,  0.57611723,  0.78201042],\n",
              "       [ 1.28844421,  0.13409909,  0.92613258,  1.18110539],\n",
              "       [ 1.04430034,  0.13409909,  1.04280436,  1.58020036],\n",
              "       [ 1.28844421,  0.13409909,  0.7511249 ,  1.44716871],\n",
              "       [ 0.        , -0.80944147,  0.7511249 ,  0.91504208],\n",
              "       [ 1.16637228,  0.36998423,  1.21781204,  1.44716871],\n",
              "       [ 1.04430034,  0.60586936,  1.10114025,  1.71323202],\n",
              "       [ 1.04430034, -0.10178605,  0.80946079,  1.44716871],\n",
              "       [ 0.        , -1.28121175,  0.69278901,  0.91504208],\n",
              "       [ 0.80015647, -0.10178605,  0.80946079,  1.04807373],\n",
              "       [ 0.43394065,  0.8417545 ,  0.92613258,  1.44716871],\n",
              "       [ 0.06772484, -0.10178605,  0.        ,  0.78201042]])"
            ]
          },
          "execution_count": 28,
          "metadata": {},
          "output_type": "execute_result"
        }
      ],
      "source": [
        "scaler = StandardScaler()\n",
        "X = scaler.fit_transform(data[feature_columns])\n",
        "X"
      ]
    },
    {
      "cell_type": "code",
      "execution_count": null,
      "id": "ca942ed9-7327-453d-8280-35fb224c40d5",
      "metadata": {
        "id": "ca942ed9-7327-453d-8280-35fb224c40d5"
      },
      "outputs": [],
      "source": [
        "X_train, X_test, y_train, y_test = train_test_split(X, y, test_size=0.2, random_state=42)"
      ]
    },
    {
      "cell_type": "code",
      "execution_count": null,
      "id": "1fec60a2-95d3-41af-84df-7d30f1faa9c4",
      "metadata": {
        "id": "1fec60a2-95d3-41af-84df-7d30f1faa9c4",
        "outputId": "a3ecd002-17a6-4eaa-89b5-5adb67a0e9c7"
      },
      "outputs": [
        {
          "name": "stdout",
          "output_type": "stream",
          "text": [
            "X train shape is:  (120, 4)\n",
            "X test shape is:  (30, 4)\n",
            "Y train shape is:  (120, 3)\n",
            "Y test shape is:  (30, 3)\n"
          ]
        }
      ],
      "source": [
        "print('X train shape is: ',X_train.shape)\n",
        "print('X test shape is: ',X_test.shape)\n",
        "print('Y train shape is: ',y_train.shape)\n",
        "print('Y test shape is: ',y_test.shape)"
      ]
    },
    {
      "cell_type": "code",
      "execution_count": null,
      "id": "80adf1b8-b42f-4b9b-8eb7-a47fb865218f",
      "metadata": {
        "id": "80adf1b8-b42f-4b9b-8eb7-a47fb865218f",
        "outputId": "6d37d009-8efd-466f-d904-93906edd666b"
      },
      "outputs": [
        {
          "data": {
            "text/html": [
              "<style>#sk-container-id-8 {color: black;background-color: white;}#sk-container-id-8 pre{padding: 0;}#sk-container-id-8 div.sk-toggleable {background-color: white;}#sk-container-id-8 label.sk-toggleable__label {cursor: pointer;display: block;width: 100%;margin-bottom: 0;padding: 0.3em;box-sizing: border-box;text-align: center;}#sk-container-id-8 label.sk-toggleable__label-arrow:before {content: \"▸\";float: left;margin-right: 0.25em;color: #696969;}#sk-container-id-8 label.sk-toggleable__label-arrow:hover:before {color: black;}#sk-container-id-8 div.sk-estimator:hover label.sk-toggleable__label-arrow:before {color: black;}#sk-container-id-8 div.sk-toggleable__content {max-height: 0;max-width: 0;overflow: hidden;text-align: left;background-color: #f0f8ff;}#sk-container-id-8 div.sk-toggleable__content pre {margin: 0.2em;color: black;border-radius: 0.25em;background-color: #f0f8ff;}#sk-container-id-8 input.sk-toggleable__control:checked~div.sk-toggleable__content {max-height: 200px;max-width: 100%;overflow: auto;}#sk-container-id-8 input.sk-toggleable__control:checked~label.sk-toggleable__label-arrow:before {content: \"▾\";}#sk-container-id-8 div.sk-estimator input.sk-toggleable__control:checked~label.sk-toggleable__label {background-color: #d4ebff;}#sk-container-id-8 div.sk-label input.sk-toggleable__control:checked~label.sk-toggleable__label {background-color: #d4ebff;}#sk-container-id-8 input.sk-hidden--visually {border: 0;clip: rect(1px 1px 1px 1px);clip: rect(1px, 1px, 1px, 1px);height: 1px;margin: -1px;overflow: hidden;padding: 0;position: absolute;width: 1px;}#sk-container-id-8 div.sk-estimator {font-family: monospace;background-color: #f0f8ff;border: 1px dotted black;border-radius: 0.25em;box-sizing: border-box;margin-bottom: 0.5em;}#sk-container-id-8 div.sk-estimator:hover {background-color: #d4ebff;}#sk-container-id-8 div.sk-parallel-item::after {content: \"\";width: 100%;border-bottom: 1px solid gray;flex-grow: 1;}#sk-container-id-8 div.sk-label:hover label.sk-toggleable__label {background-color: #d4ebff;}#sk-container-id-8 div.sk-serial::before {content: \"\";position: absolute;border-left: 1px solid gray;box-sizing: border-box;top: 0;bottom: 0;left: 50%;z-index: 0;}#sk-container-id-8 div.sk-serial {display: flex;flex-direction: column;align-items: center;background-color: white;padding-right: 0.2em;padding-left: 0.2em;position: relative;}#sk-container-id-8 div.sk-item {position: relative;z-index: 1;}#sk-container-id-8 div.sk-parallel {display: flex;align-items: stretch;justify-content: center;background-color: white;position: relative;}#sk-container-id-8 div.sk-item::before, #sk-container-id-8 div.sk-parallel-item::before {content: \"\";position: absolute;border-left: 1px solid gray;box-sizing: border-box;top: 0;bottom: 0;left: 50%;z-index: -1;}#sk-container-id-8 div.sk-parallel-item {display: flex;flex-direction: column;z-index: 1;position: relative;background-color: white;}#sk-container-id-8 div.sk-parallel-item:first-child::after {align-self: flex-end;width: 50%;}#sk-container-id-8 div.sk-parallel-item:last-child::after {align-self: flex-start;width: 50%;}#sk-container-id-8 div.sk-parallel-item:only-child::after {width: 0;}#sk-container-id-8 div.sk-dashed-wrapped {border: 1px dashed gray;margin: 0 0.4em 0.5em 0.4em;box-sizing: border-box;padding-bottom: 0.4em;background-color: white;}#sk-container-id-8 div.sk-label label {font-family: monospace;font-weight: bold;display: inline-block;line-height: 1.2em;}#sk-container-id-8 div.sk-label-container {text-align: center;}#sk-container-id-8 div.sk-container {/* jupyter's `normalize.less` sets `[hidden] { display: none; }` but bootstrap.min.css set `[hidden] { display: none !important; }` so we also need the `!important` here to be able to override the default hidden behavior on the sphinx rendered scikit-learn.org. See: https://github.com/scikit-learn/scikit-learn/issues/21755 */display: inline-block !important;position: relative;}#sk-container-id-8 div.sk-text-repr-fallback {display: none;}</style><div id=\"sk-container-id-8\" class=\"sk-top-container\"><div class=\"sk-text-repr-fallback\"><pre>RandomForestClassifier(max_depth=2, random_state=33)</pre><b>In a Jupyter environment, please rerun this cell to show the HTML representation or trust the notebook. <br />On GitHub, the HTML representation is unable to render, please try loading this page with nbviewer.org.</b></div><div class=\"sk-container\" hidden><div class=\"sk-item\"><div class=\"sk-estimator sk-toggleable\"><input class=\"sk-toggleable__control sk-hidden--visually\" id=\"sk-estimator-id-8\" type=\"checkbox\" checked><label for=\"sk-estimator-id-8\" class=\"sk-toggleable__label sk-toggleable__label-arrow\">RandomForestClassifier</label><div class=\"sk-toggleable__content\"><pre>RandomForestClassifier(max_depth=2, random_state=33)</pre></div></div></div></div></div>"
            ],
            "text/plain": [
              "RandomForestClassifier(max_depth=2, random_state=33)"
            ]
          },
          "execution_count": 95,
          "metadata": {},
          "output_type": "execute_result"
        }
      ],
      "source": [
        "classifier = RandomForestClassifier(n_estimators=100,max_depth=2,random_state=33)\n",
        "classifier.fit(X_train, y_train)"
      ]
    },
    {
      "cell_type": "code",
      "execution_count": null,
      "id": "1b0264fe-6af8-4403-8980-26193677a8b5",
      "metadata": {
        "id": "1b0264fe-6af8-4403-8980-26193677a8b5",
        "outputId": "c86c0073-4e86-464e-e63c-bf5b20ff5dc3"
      },
      "outputs": [
        {
          "data": {
            "text/plain": [
              "array([[0., 1., 0.],\n",
              "       [1., 0., 0.],\n",
              "       [0., 0., 1.],\n",
              "       [0., 1., 0.],\n",
              "       [0., 1., 0.],\n",
              "       [1., 0., 0.],\n",
              "       [0., 1., 0.],\n",
              "       [0., 0., 1.],\n",
              "       [0., 1., 0.],\n",
              "       [0., 1., 0.],\n",
              "       [0., 0., 1.],\n",
              "       [1., 0., 0.],\n",
              "       [1., 0., 0.],\n",
              "       [1., 0., 0.],\n",
              "       [1., 0., 0.],\n",
              "       [0., 1., 0.],\n",
              "       [0., 0., 1.],\n",
              "       [0., 1., 0.],\n",
              "       [0., 1., 0.],\n",
              "       [0., 0., 1.],\n",
              "       [0., 1., 0.],\n",
              "       [0., 0., 1.],\n",
              "       [1., 0., 0.],\n",
              "       [0., 0., 1.],\n",
              "       [0., 0., 1.],\n",
              "       [0., 0., 1.],\n",
              "       [0., 0., 1.],\n",
              "       [0., 0., 1.],\n",
              "       [1., 0., 0.],\n",
              "       [0., 1., 0.]])"
            ]
          },
          "execution_count": 97,
          "metadata": {},
          "output_type": "execute_result"
        }
      ],
      "source": [
        "y_pred = classifier.predict(X_test)\n",
        "y_pred"
      ]
    },
    {
      "cell_type": "code",
      "execution_count": null,
      "id": "cb9471c8-bad3-4087-9bf7-b978e19e541a",
      "metadata": {
        "id": "cb9471c8-bad3-4087-9bf7-b978e19e541a",
        "outputId": "ab72c823-0acf-4d13-e560-b23125a270e5"
      },
      "outputs": [
        {
          "name": "stdout",
          "output_type": "stream",
          "text": [
            "Classification Report is : \n",
            "               precision    recall  f1-score   support\n",
            "\n",
            "           0       1.00      0.80      0.89        10\n",
            "           1       0.82      1.00      0.90         9\n",
            "           2       1.00      1.00      1.00        11\n",
            "\n",
            "   micro avg       0.93      0.93      0.93        30\n",
            "   macro avg       0.94      0.93      0.93        30\n",
            "weighted avg       0.95      0.93      0.93        30\n",
            " samples avg       0.93      0.93      0.93        30\n",
            "\n"
          ]
        }
      ],
      "source": [
        "ClassificationReport = classification_report(y_test,y_pred)\n",
        "print(\"Classification Report is : \\n\",ClassificationReport)"
      ]
    },
    {
      "cell_type": "code",
      "execution_count": null,
      "id": "e9cd400c-d732-4d85-aac2-b1420f523ee4",
      "metadata": {
        "id": "e9cd400c-d732-4d85-aac2-b1420f523ee4",
        "outputId": "b38d4135-04f9-4e35-bfec-445e4b0588c1"
      },
      "outputs": [
        {
          "name": "stdout",
          "output_type": "stream",
          "text": [
            "\n",
            "Confusion Matrix:\n",
            "[[ 8  2  0]\n",
            " [ 0  9  0]\n",
            " [ 0  0 11]]\n",
            "Accuracy: 0.9333333333333333\n"
          ]
        }
      ],
      "source": [
        "conf_matrix = confusion_matrix(y_test.argmax(axis=1), y_pred.argmax(axis=1))\n",
        "accuracy = accuracy_score(y_test.argmax(axis=1), y_pred.argmax(axis=1))\n",
        "print(\"\\nConfusion Matrix:\")\n",
        "print(conf_matrix)\n",
        "print(\"Accuracy:\", accuracy)"
      ]
    },
    {
      "cell_type": "code",
      "execution_count": null,
      "id": "56cc6d51-ff66-41e8-97f3-aba7d5df3db2",
      "metadata": {
        "id": "56cc6d51-ff66-41e8-97f3-aba7d5df3db2",
        "outputId": "6a8ea2b0-fbcc-4fab-fe53-e71687b42804"
      },
      "outputs": [
        {
          "data": {
            "image/png": "[encoded data removed]",
            "text/plain": [
              "<Figure size 640x480 with 2 Axes>"
            ]
          },
          "metadata": {},
          "output_type": "display_data"
        }
      ],
      "source": [
        "disp = ConfusionMatrixDisplay(confusion_matrix=conf_matrix, display_labels=encoder.categories_[0])\n",
        "disp.plot(cmap=\"magma\")\n",
        "plt.title('Confusion Matrix')\n",
        "plt.show()"
      ]
    },
    {
      "cell_type": "code",
      "execution_count": null,
      "id": "501adfcd-dbcd-4f79-bb0f-457b9e813f93",
      "metadata": {
        "id": "501adfcd-dbcd-4f79-bb0f-457b9e813f93",
        "outputId": "b2229a9d-ab11-40a7-b8dc-c2f5834f3718"
      },
      "outputs": [
        {
          "data": {
            "image/png": "[encoded data removed]",
            "text/plain": [
              "<Figure size 600x600 with 1 Axes>"
            ]
          },
          "metadata": {},
          "output_type": "display_data"
        }
      ],
      "source": [
        "plt.figure(figsize=(6, 6))\n",
        "plt.scatter(range(len(y_test)), y_test.argmax(axis=1), label='Actual', alpha=0.6, color='blue')\n",
        "plt.scatter(range(len(y_pred)), y_pred.argmax(axis=1), label='Predicted', alpha=0.6, color='orange')\n",
        "plt.xlabel('Sample Index')\n",
        "plt.ylabel('Class')\n",
        "plt.title('Actual vs Predicted Classes')\n",
        "plt.legend()\n",
        "plt.show()"
      ]
    },
    {
      "cell_type": "code",
      "execution_count": null,
      "id": "1e4cc06a-c743-4399-bfcc-906d4221c5ae",
      "metadata": {
        "id": "1e4cc06a-c743-4399-bfcc-906d4221c5ae",
        "outputId": "45899597-373a-4215-89c7-39649caf1757"
      },
      "outputs": [
        {
          "name": "stdout",
          "output_type": "stream",
          "text": [
            "\n",
            "Predicted Class for the unseen sample: setosa\n"
          ]
        }
      ],
      "source": [
        "new_data = [[5.1, 3.5, 1.4, 0.2]]\n",
        "new_data_df = pd.DataFrame(new_data, columns=feature_columns)\n",
        "new_data_scaled = scaler.transform(new_data_df)\n",
        "new_prediction = classifier.predict(new_data_scaled)\n",
        "predicted_class_index = new_prediction.argmax(axis=1)[0]\n",
        "predicted_class = encoder.categories_[0][predicted_class_index]\n",
        "print(\"\\nPredicted Class for the unseen sample:\", predicted_class)"
      ]
    },
    {
      "cell_type": "code",
      "execution_count": null,
      "id": "3015ebed-cf4e-4919-b86d-c6feac2acef1",
      "metadata": {
        "id": "3015ebed-cf4e-4919-b86d-c6feac2acef1"
      },
      "outputs": [],
      "source": []
    }
  ],
  "metadata": {
    "kernelspec": {
      "display_name": "Python 3 (ipykernel)",
      "language": "python",
      "name": "python3"
    },
    "language_info": {
      "codemirror_mode": {
        "name": "ipython",
        "version": 3
      },
      "file_extension": ".py",
      "mimetype": "text/x-python",
      "name": "python",
      "nbconvert_exporter": "python",
      "pygments_lexer": "ipython3",
      "version": "3.11.10"
    },
    "colab": {
      "provenance": []
    }
  },
  "nbformat": 4,
  "nbformat_minor": 5
}