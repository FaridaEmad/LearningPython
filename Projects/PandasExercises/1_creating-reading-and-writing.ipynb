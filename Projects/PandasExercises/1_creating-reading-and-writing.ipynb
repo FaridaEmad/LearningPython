{
 "cells": [
  {
   "cell_type": "markdown",
   "id": "0965e440",
   "metadata": {
    "papermill": {
     "duration": 0.012666,
     "end_time": "2022-02-08T16:44:11.749153",
     "exception": false,
     "start_time": "2022-02-08T16:44:11.736487",
     "status": "completed"
    },
    "tags": []
   },
   "source": [
    "\n",
    "# Getting started\n",
    "\n",
    "To use pandas, you'll typically start with the following line of code."
   ]
  },
  {
   "cell_type": "code",
   "execution_count": null,
   "id": "a935535f",
   "metadata": {},
   "outputs": [],
   "source": [
    "!pip install pandas+"
   ]
  },
  {
   "cell_type": "code",
   "execution_count": 1,
   "id": "d4137d7a",
   "metadata": {
    "papermill": {
     "duration": 0.023901,
     "end_time": "2022-02-08T16:44:11.784806",
     "exception": false,
     "start_time": "2022-02-08T16:44:11.760905",
     "status": "completed"
    },
    "tags": []
   },
   "outputs": [],
   "source": [
    "import pandas as pd"
   ]
  },
  {
   "cell_type": "markdown",
   "id": "8dd3cf51",
   "metadata": {
    "papermill": {
     "duration": 0.011055,
     "end_time": "2022-02-08T16:44:11.807253",
     "exception": false,
     "start_time": "2022-02-08T16:44:11.796198",
     "status": "completed"
    },
    "tags": []
   },
   "source": [
    "# Creating data\n",
    "\n",
    "There are two core objects in pandas: the **DataFrame** and the **Series**.\n",
    "\n",
    "### DataFrame\n",
    "\n",
    "A DataFrame is a table. It contains an array of individual *entries*, each of which has a certain *value*. Each entry corresponds to a row (or *record*) and a *column*.\n",
    "\n",
    "For example, consider the following simple DataFrame:"
   ]
  },
  {
   "cell_type": "code",
   "execution_count": 3,
   "id": "b2b60485",
   "metadata": {
    "papermill": {
     "duration": 0.033863,
     "end_time": "2022-02-08T16:44:11.852153",
     "exception": false,
     "start_time": "2022-02-08T16:44:11.818290",
     "status": "completed"
    },
    "tags": []
   },
   "outputs": [
    {
     "data": {
      "text/html": [
       "<div>\n",
       "<style scoped>\n",
       "    .dataframe tbody tr th:only-of-type {\n",
       "        vertical-align: middle;\n",
       "    }\n",
       "\n",
       "    .dataframe tbody tr th {\n",
       "        vertical-align: top;\n",
       "    }\n",
       "\n",
       "    .dataframe thead th {\n",
       "        text-align: right;\n",
       "    }\n",
       "</style>\n",
       "<table border=\"1\" class=\"dataframe\">\n",
       "  <thead>\n",
       "    <tr style=\"text-align: right;\">\n",
       "      <th></th>\n",
       "      <th>Yes</th>\n",
       "      <th>No</th>\n",
       "    </tr>\n",
       "  </thead>\n",
       "  <tbody>\n",
       "    <tr>\n",
       "      <th>0</th>\n",
       "      <td>50</td>\n",
       "      <td>131</td>\n",
       "    </tr>\n",
       "    <tr>\n",
       "      <th>1</th>\n",
       "      <td>21</td>\n",
       "      <td>2</td>\n",
       "    </tr>\n",
       "  </tbody>\n",
       "</table>\n",
       "</div>"
      ],
      "text/plain": [
       "   Yes   No\n",
       "0   50  131\n",
       "1   21    2"
      ]
     },
     "execution_count": 3,
     "metadata": {},
     "output_type": "execute_result"
    }
   ],
   "source": [
    "pd.DataFrame({'Yes': [50, 21], 'No': [131, 2]})"
   ]
  },
  {
   "cell_type": "markdown",
   "id": "823b803d",
   "metadata": {
    "papermill": {
     "duration": 0.011623,
     "end_time": "2022-02-08T16:44:11.876700",
     "exception": false,
     "start_time": "2022-02-08T16:44:11.865077",
     "status": "completed"
    },
    "tags": []
   },
   "source": [
    "In this example, the \"0, No\" entry has the value of 131. The \"0, Yes\" entry has a value of 50, and so on.\n",
    "\n",
    "DataFrame entries are not limited to integers. For instance, here's a DataFrame whose values are strings:"
   ]
  },
  {
   "cell_type": "code",
   "execution_count": 5,
   "id": "02a91d3b",
   "metadata": {
    "papermill": {
     "duration": 0.024118,
     "end_time": "2022-02-08T16:44:11.912835",
     "exception": false,
     "start_time": "2022-02-08T16:44:11.888717",
     "status": "completed"
    },
    "tags": []
   },
   "outputs": [
    {
     "data": {
      "text/html": [
       "<div>\n",
       "<style scoped>\n",
       "    .dataframe tbody tr th:only-of-type {\n",
       "        vertical-align: middle;\n",
       "    }\n",
       "\n",
       "    .dataframe tbody tr th {\n",
       "        vertical-align: top;\n",
       "    }\n",
       "\n",
       "    .dataframe thead th {\n",
       "        text-align: right;\n",
       "    }\n",
       "</style>\n",
       "<table border=\"1\" class=\"dataframe\">\n",
       "  <thead>\n",
       "    <tr style=\"text-align: right;\">\n",
       "      <th></th>\n",
       "      <th>Bob</th>\n",
       "      <th>Sue</th>\n",
       "    </tr>\n",
       "  </thead>\n",
       "  <tbody>\n",
       "    <tr>\n",
       "      <th>0</th>\n",
       "      <td>I liked it.</td>\n",
       "      <td>Pretty good.</td>\n",
       "    </tr>\n",
       "    <tr>\n",
       "      <th>1</th>\n",
       "      <td>It was awful.</td>\n",
       "      <td>Bland.</td>\n",
       "    </tr>\n",
       "  </tbody>\n",
       "</table>\n",
       "</div>"
      ],
      "text/plain": [
       "             Bob           Sue\n",
       "0    I liked it.  Pretty good.\n",
       "1  It was awful.        Bland."
      ]
     },
     "execution_count": 5,
     "metadata": {},
     "output_type": "execute_result"
    }
   ],
   "source": [
    "pd.DataFrame({'Bob': ['I liked it.', 'It was awful.'], 'Sue': ['Pretty good.', 'Bland.']})"
   ]
  },
  {
   "cell_type": "markdown",
   "id": "ecb643da",
   "metadata": {
    "papermill": {
     "duration": 0.011603,
     "end_time": "2022-02-08T16:44:11.936497",
     "exception": false,
     "start_time": "2022-02-08T16:44:11.924894",
     "status": "completed"
    },
    "tags": []
   },
   "source": [
    "We are using the `pd.DataFrame()` constructor to generate these DataFrame objects. The syntax for declaring a new one is a dictionary whose keys are the column names (`Bob` and `Sue` in this example), and whose values are a list of entries. This is the standard way of constructing a new DataFrame, and the one you are most likely to encounter."
   ]
  },
  {
   "cell_type": "markdown",
   "id": "ed45251e",
   "metadata": {
    "papermill": {
     "duration": 0.011872,
     "end_time": "2022-02-08T16:44:11.960307",
     "exception": false,
     "start_time": "2022-02-08T16:44:11.948435",
     "status": "completed"
    },
    "tags": []
   },
   "source": [
    "The dictionary-list constructor assigns values to the *column labels*, but just uses an ascending count from 0 (0, 1, 2, 3, ...) for the *row labels*. Sometimes this is OK, but oftentimes we will want to assign these labels ourselves.\n",
    "\n",
    "The list of row labels used in a DataFrame is known as an **Index**. We can assign values to it by using an `index` parameter in our constructor:"
   ]
  },
  {
   "cell_type": "code",
   "execution_count": 7,
   "id": "ef6c138a",
   "metadata": {
    "papermill": {
     "duration": 0.025686,
     "end_time": "2022-02-08T16:44:11.997828",
     "exception": false,
     "start_time": "2022-02-08T16:44:11.972142",
     "status": "completed"
    },
    "tags": []
   },
   "outputs": [
    {
     "data": {
      "text/html": [
       "<div>\n",
       "<style scoped>\n",
       "    .dataframe tbody tr th:only-of-type {\n",
       "        vertical-align: middle;\n",
       "    }\n",
       "\n",
       "    .dataframe tbody tr th {\n",
       "        vertical-align: top;\n",
       "    }\n",
       "\n",
       "    .dataframe thead th {\n",
       "        text-align: right;\n",
       "    }\n",
       "</style>\n",
       "<table border=\"1\" class=\"dataframe\">\n",
       "  <thead>\n",
       "    <tr style=\"text-align: right;\">\n",
       "      <th></th>\n",
       "      <th>Bob</th>\n",
       "      <th>Sue</th>\n",
       "    </tr>\n",
       "  </thead>\n",
       "  <tbody>\n",
       "    <tr>\n",
       "      <th>Product A</th>\n",
       "      <td>I liked it.</td>\n",
       "      <td>Pretty good.</td>\n",
       "    </tr>\n",
       "    <tr>\n",
       "      <th>Product B</th>\n",
       "      <td>It was awful.</td>\n",
       "      <td>Bland.</td>\n",
       "    </tr>\n",
       "  </tbody>\n",
       "</table>\n",
       "</div>"
      ],
      "text/plain": [
       "                     Bob           Sue\n",
       "Product A    I liked it.  Pretty good.\n",
       "Product B  It was awful.        Bland."
      ]
     },
     "execution_count": 7,
     "metadata": {},
     "output_type": "execute_result"
    }
   ],
   "source": [
    "pd.DataFrame({'Bob': ['I liked it.', 'It was awful.'], \n",
    "              'Sue': ['Pretty good.', 'Bland.']},\n",
    "             index=['Product A', 'Product B'])"
   ]
  },
  {
   "cell_type": "markdown",
   "id": "3ff45c17",
   "metadata": {
    "papermill": {
     "duration": 0.012192,
     "end_time": "2022-02-08T16:44:12.022721",
     "exception": false,
     "start_time": "2022-02-08T16:44:12.010529",
     "status": "completed"
    },
    "tags": []
   },
   "source": [
    "### Series\n",
    "\n",
    "A Series, by contrast, is a sequence of data values. If a DataFrame is a table, a Series is a list. And in fact you can create one with nothing more than a list:"
   ]
  },
  {
   "cell_type": "code",
   "execution_count": 9,
   "id": "74e9e853",
   "metadata": {
    "papermill": {
     "duration": 0.022218,
     "end_time": "2022-02-08T16:44:12.057157",
     "exception": false,
     "start_time": "2022-02-08T16:44:12.034939",
     "status": "completed"
    },
    "tags": []
   },
   "outputs": [
    {
     "data": {
      "text/plain": [
       "0    1\n",
       "1    2\n",
       "2    3\n",
       "3    4\n",
       "4    5\n",
       "dtype: int64"
      ]
     },
     "execution_count": 9,
     "metadata": {},
     "output_type": "execute_result"
    }
   ],
   "source": [
    "pd.Series([1, 2, 3, 4, 5])"
   ]
  },
  {
   "cell_type": "markdown",
   "id": "e3818087",
   "metadata": {
    "papermill": {
     "duration": 0.012953,
     "end_time": "2022-02-08T16:44:12.083347",
     "exception": false,
     "start_time": "2022-02-08T16:44:12.070394",
     "status": "completed"
    },
    "tags": []
   },
   "source": [
    "A Series is, in essence, a single column of a DataFrame. So you can assign row labels to the Series the same way as before, using an `index` parameter. However, a Series does not have a column name, it only has one overall `name`:"
   ]
  },
  {
   "cell_type": "code",
   "execution_count": 11,
   "id": "22f8ee16",
   "metadata": {
    "papermill": {
     "duration": 0.023586,
     "end_time": "2022-02-08T16:44:12.120309",
     "exception": false,
     "start_time": "2022-02-08T16:44:12.096723",
     "status": "completed"
    },
    "tags": []
   },
   "outputs": [
    {
     "data": {
      "text/plain": [
       "2015 Sales    30\n",
       "2016 Sales    35\n",
       "2017 Sales    40\n",
       "Name: Product A, dtype: int64"
      ]
     },
     "execution_count": 11,
     "metadata": {},
     "output_type": "execute_result"
    }
   ],
   "source": [
    "pd.Series([30, 35, 40], index=['2015 Sales', '2016 Sales', '2017 Sales'], name='Product A')"
   ]
  },
  {
   "cell_type": "markdown",
   "id": "7a99a7a5",
   "metadata": {
    "papermill": {
     "duration": 0.013097,
     "end_time": "2022-02-08T16:44:12.147400",
     "exception": false,
     "start_time": "2022-02-08T16:44:12.134303",
     "status": "completed"
    },
    "tags": []
   },
   "source": [
    "The Series and the DataFrame are intimately related. It's helpful to think of a DataFrame as actually being just a bunch of Series \"glued together\". We'll see more of this in the next section of this tutorial."
   ]
  },
  {
   "cell_type": "markdown",
   "id": "85b2b748",
   "metadata": {
    "papermill": {
     "duration": 0.013159,
     "end_time": "2022-02-08T16:44:12.174006",
     "exception": false,
     "start_time": "2022-02-08T16:44:12.160847",
     "status": "completed"
    },
    "tags": []
   },
   "source": [
    "# Reading data files\n",
    "\n",
    "Being able to create a DataFrame or Series by hand is handy. But, most of the time, we won't actually be creating our own data by hand. Instead, we'll be working with data that already exists.\n",
    "\n",
    "Data can be stored in any of a number of different forms and formats. By far the most basic of these is the humble CSV file. When you open a CSV file you get something that looks like this:\n",
    "\n",
    "```\n",
    "Product A,Product B,Product C,\n",
    "30,21,9,\n",
    "35,34,1,\n",
    "41,11,11\n",
    "```\n",
    "\n",
    "So a CSV file is a table of values separated by commas. Hence the name: \"Comma-Separated Values\", or CSV.\n",
    "\n",
    "Let's now set aside our toy datasets and see what a real dataset looks like when we read it into a DataFrame. We'll use the `pd.read_csv()` function to read the data into a DataFrame. This goes thusly:"
   ]
  },
  {
   "cell_type": "code",
   "execution_count": 21,
   "id": "35e9ec36",
   "metadata": {
    "papermill": {
     "duration": 1.770035,
     "end_time": "2022-02-08T16:44:13.957517",
     "exception": false,
     "start_time": "2022-02-08T16:44:12.187482",
     "status": "completed"
    },
    "tags": []
   },
   "outputs": [],
   "source": [
    "wine_reviews = pd.read_csv(\"winemag-data-130k-v2.csv\")"
   ]
  },
  {
   "cell_type": "markdown",
   "id": "1d94e52b",
   "metadata": {
    "papermill": {
     "duration": 0.020353,
     "end_time": "2022-02-08T16:44:13.999010",
     "exception": false,
     "start_time": "2022-02-08T16:44:13.978657",
     "status": "completed"
    },
    "tags": []
   },
   "source": [
    "We can use the `shape` attribute to check how large the resulting DataFrame is:"
   ]
  },
  {
   "cell_type": "code",
   "execution_count": 23,
   "id": "f6f7cc7e",
   "metadata": {
    "papermill": {
     "duration": 0.027361,
     "end_time": "2022-02-08T16:44:14.046842",
     "exception": false,
     "start_time": "2022-02-08T16:44:14.019481",
     "status": "completed"
    },
    "tags": []
   },
   "outputs": [
    {
     "data": {
      "text/plain": [
       "(119988, 15)"
      ]
     },
     "execution_count": 23,
     "metadata": {},
     "output_type": "execute_result"
    }
   ],
   "source": [
    "wine_reviews.shape"
   ]
  },
  {
   "cell_type": "markdown",
   "id": "f4f85b09",
   "metadata": {
    "papermill": {
     "duration": 0.020579,
     "end_time": "2022-02-08T16:44:14.088257",
     "exception": false,
     "start_time": "2022-02-08T16:44:14.067678",
     "status": "completed"
    },
    "tags": []
   },
   "source": [
    "So our new DataFrame has 130,000 records split across 14 different columns. That's almost 2 million entries!\n",
    "\n",
    "We can examine the contents of the resultant DataFrame using the `head()` command, which grabs the first five rows:"
   ]
  },
  {
   "cell_type": "code",
   "execution_count": 25,
   "id": "16dc5a61",
   "metadata": {
    "papermill": {
     "duration": 0.039396,
     "end_time": "2022-02-08T16:44:14.150269",
     "exception": false,
     "start_time": "2022-02-08T16:44:14.110873",
     "status": "completed"
    },
    "tags": []
   },
   "outputs": [
    {
     "data": {
      "text/html": [
       "<div>\n",
       "<style scoped>\n",
       "    .dataframe tbody tr th:only-of-type {\n",
       "        vertical-align: middle;\n",
       "    }\n",
       "\n",
       "    .dataframe tbody tr th {\n",
       "        vertical-align: top;\n",
       "    }\n",
       "\n",
       "    .dataframe thead th {\n",
       "        text-align: right;\n",
       "    }\n",
       "</style>\n",
       "<table border=\"1\" class=\"dataframe\">\n",
       "  <thead>\n",
       "    <tr style=\"text-align: right;\">\n",
       "      <th></th>\n",
       "      <th>id</th>\n",
       "      <th>country</th>\n",
       "      <th>description</th>\n",
       "      <th>designation</th>\n",
       "      <th>points</th>\n",
       "      <th>price</th>\n",
       "      <th>province</th>\n",
       "      <th>region_1</th>\n",
       "      <th>region_2</th>\n",
       "      <th>taster_name</th>\n",
       "      <th>taster_twitter_handle</th>\n",
       "      <th>title</th>\n",
       "      <th>variety</th>\n",
       "      <th>winery</th>\n",
       "      <th>dupe?</th>\n",
       "    </tr>\n",
       "  </thead>\n",
       "  <tbody>\n",
       "    <tr>\n",
       "      <th>0</th>\n",
       "      <td>94355</td>\n",
       "      <td>Austria</td>\n",
       "      <td>\"Chremisa,\" the ancient name of Krems, is comm...</td>\n",
       "      <td>Edition Chremisa Sandgrube 13</td>\n",
       "      <td>85</td>\n",
       "      <td>24.0</td>\n",
       "      <td>Niederösterreich</td>\n",
       "      <td>NaN</td>\n",
       "      <td>NaN</td>\n",
       "      <td>Roger Voss</td>\n",
       "      <td>@vossroger</td>\n",
       "      <td>Winzer Krems 2011 Edition Chremisa Sandgrube 1...</td>\n",
       "      <td>Grüner Veltliner</td>\n",
       "      <td>Winzer Krems</td>\n",
       "      <td>NaN</td>\n",
       "    </tr>\n",
       "    <tr>\n",
       "      <th>1</th>\n",
       "      <td>126883</td>\n",
       "      <td>US</td>\n",
       "      <td>$10 for this very drinkable Cab? That's crazy....</td>\n",
       "      <td>NaN</td>\n",
       "      <td>87</td>\n",
       "      <td>10.0</td>\n",
       "      <td>California</td>\n",
       "      <td>North Coast</td>\n",
       "      <td>North Coast</td>\n",
       "      <td>Virginie Boone</td>\n",
       "      <td>@vboone</td>\n",
       "      <td>Line 39 2009 Cabernet Sauvignon (North Coast)</td>\n",
       "      <td>Cabernet Sauvignon</td>\n",
       "      <td>Line 39</td>\n",
       "      <td>NaN</td>\n",
       "    </tr>\n",
       "    <tr>\n",
       "      <th>2</th>\n",
       "      <td>119493</td>\n",
       "      <td>US</td>\n",
       "      <td>$14 is a pretty good price for a Chardonnay th...</td>\n",
       "      <td>Whiplash</td>\n",
       "      <td>86</td>\n",
       "      <td>14.0</td>\n",
       "      <td>California</td>\n",
       "      <td>California</td>\n",
       "      <td>California Other</td>\n",
       "      <td>NaN</td>\n",
       "      <td>NaN</td>\n",
       "      <td>Jamieson Ranch 2011 Whiplash Chardonnay (Calif...</td>\n",
       "      <td>Chardonnay</td>\n",
       "      <td>Jamieson Ranch</td>\n",
       "      <td>NaN</td>\n",
       "    </tr>\n",
       "    <tr>\n",
       "      <th>3</th>\n",
       "      <td>126909</td>\n",
       "      <td>Spain</td>\n",
       "      <td>). Earth, cola and leather aromas are good, ho...</td>\n",
       "      <td>Finca Resalso</td>\n",
       "      <td>86</td>\n",
       "      <td>15.0</td>\n",
       "      <td>Northern Spain</td>\n",
       "      <td>Ribera del Duero</td>\n",
       "      <td>NaN</td>\n",
       "      <td>Michael Schachner</td>\n",
       "      <td>@wineschach</td>\n",
       "      <td>Emilio Moro 2009 Finca Resalso  (Ribera del Du...</td>\n",
       "      <td>Tinto Fino</td>\n",
       "      <td>Emilio Moro</td>\n",
       "      <td>NaN</td>\n",
       "    </tr>\n",
       "    <tr>\n",
       "      <th>4</th>\n",
       "      <td>119752</td>\n",
       "      <td>Spain</td>\n",
       "      <td>). Light and lemony on the nose. The palate ha...</td>\n",
       "      <td>NaN</td>\n",
       "      <td>87</td>\n",
       "      <td>17.0</td>\n",
       "      <td>Galicia</td>\n",
       "      <td>Rías Baixas</td>\n",
       "      <td>NaN</td>\n",
       "      <td>Michael Schachner</td>\n",
       "      <td>@wineschach</td>\n",
       "      <td>La Caña 2010 Albariño (Rías Baixas)</td>\n",
       "      <td>Albariño</td>\n",
       "      <td>La Caña</td>\n",
       "      <td>NaN</td>\n",
       "    </tr>\n",
       "  </tbody>\n",
       "</table>\n",
       "</div>"
      ],
      "text/plain": [
       "       id  country                                        description  \\\n",
       "0   94355  Austria  \"Chremisa,\" the ancient name of Krems, is comm...   \n",
       "1  126883       US  $10 for this very drinkable Cab? That's crazy....   \n",
       "2  119493       US  $14 is a pretty good price for a Chardonnay th...   \n",
       "3  126909    Spain  ). Earth, cola and leather aromas are good, ho...   \n",
       "4  119752    Spain  ). Light and lemony on the nose. The palate ha...   \n",
       "\n",
       "                     designation  points  price          province  \\\n",
       "0  Edition Chremisa Sandgrube 13      85   24.0  Niederösterreich   \n",
       "1                            NaN      87   10.0        California   \n",
       "2                       Whiplash      86   14.0        California   \n",
       "3                  Finca Resalso      86   15.0    Northern Spain   \n",
       "4                            NaN      87   17.0           Galicia   \n",
       "\n",
       "           region_1          region_2        taster_name  \\\n",
       "0               NaN               NaN         Roger Voss   \n",
       "1       North Coast       North Coast     Virginie Boone   \n",
       "2        California  California Other                NaN   \n",
       "3  Ribera del Duero               NaN  Michael Schachner   \n",
       "4       Rías Baixas               NaN  Michael Schachner   \n",
       "\n",
       "  taster_twitter_handle                                              title  \\\n",
       "0            @vossroger  Winzer Krems 2011 Edition Chremisa Sandgrube 1...   \n",
       "1               @vboone      Line 39 2009 Cabernet Sauvignon (North Coast)   \n",
       "2                   NaN  Jamieson Ranch 2011 Whiplash Chardonnay (Calif...   \n",
       "3           @wineschach  Emilio Moro 2009 Finca Resalso  (Ribera del Du...   \n",
       "4           @wineschach                La Caña 2010 Albariño (Rías Baixas)   \n",
       "\n",
       "              variety          winery  dupe?  \n",
       "0    Grüner Veltliner    Winzer Krems    NaN  \n",
       "1  Cabernet Sauvignon         Line 39    NaN  \n",
       "2          Chardonnay  Jamieson Ranch    NaN  \n",
       "3          Tinto Fino     Emilio Moro    NaN  \n",
       "4            Albariño         La Caña    NaN  "
      ]
     },
     "execution_count": 25,
     "metadata": {},
     "output_type": "execute_result"
    }
   ],
   "source": [
    "wine_reviews.head()"
   ]
  },
  {
   "cell_type": "markdown",
   "id": "cbc269e6",
   "metadata": {
    "papermill": {
     "duration": 0.02187,
     "end_time": "2022-02-08T16:44:14.194541",
     "exception": false,
     "start_time": "2022-02-08T16:44:14.172671",
     "status": "completed"
    },
    "tags": []
   },
   "source": [
    "The `pd.read_csv()` function is well-endowed, with over 30 optional parameters you can specify. For example, you can see in this dataset that the CSV file has a built-in index, which pandas did not pick up on automatically. To make pandas use that column for the index (instead of creating a new one from scratch), we can specify an `index_col`."
   ]
  },
  {
   "cell_type": "code",
   "execution_count": 27,
   "id": "24f09a34",
   "metadata": {
    "papermill": {
     "duration": 0.832289,
     "end_time": "2022-02-08T16:44:15.049207",
     "exception": false,
     "start_time": "2022-02-08T16:44:14.216918",
     "status": "completed"
    },
    "tags": []
   },
   "outputs": [
    {
     "data": {
      "text/html": [
       "<div>\n",
       "<style scoped>\n",
       "    .dataframe tbody tr th:only-of-type {\n",
       "        vertical-align: middle;\n",
       "    }\n",
       "\n",
       "    .dataframe tbody tr th {\n",
       "        vertical-align: top;\n",
       "    }\n",
       "\n",
       "    .dataframe thead th {\n",
       "        text-align: right;\n",
       "    }\n",
       "</style>\n",
       "<table border=\"1\" class=\"dataframe\">\n",
       "  <thead>\n",
       "    <tr style=\"text-align: right;\">\n",
       "      <th></th>\n",
       "      <th>country</th>\n",
       "      <th>description</th>\n",
       "      <th>designation</th>\n",
       "      <th>points</th>\n",
       "      <th>price</th>\n",
       "      <th>province</th>\n",
       "      <th>region_1</th>\n",
       "      <th>region_2</th>\n",
       "      <th>taster_name</th>\n",
       "      <th>taster_twitter_handle</th>\n",
       "      <th>title</th>\n",
       "      <th>variety</th>\n",
       "      <th>winery</th>\n",
       "      <th>dupe?</th>\n",
       "    </tr>\n",
       "    <tr>\n",
       "      <th>id</th>\n",
       "      <th></th>\n",
       "      <th></th>\n",
       "      <th></th>\n",
       "      <th></th>\n",
       "      <th></th>\n",
       "      <th></th>\n",
       "      <th></th>\n",
       "      <th></th>\n",
       "      <th></th>\n",
       "      <th></th>\n",
       "      <th></th>\n",
       "      <th></th>\n",
       "      <th></th>\n",
       "      <th></th>\n",
       "    </tr>\n",
       "  </thead>\n",
       "  <tbody>\n",
       "    <tr>\n",
       "      <th>94355</th>\n",
       "      <td>Austria</td>\n",
       "      <td>\"Chremisa,\" the ancient name of Krems, is comm...</td>\n",
       "      <td>Edition Chremisa Sandgrube 13</td>\n",
       "      <td>85</td>\n",
       "      <td>24.0</td>\n",
       "      <td>Niederösterreich</td>\n",
       "      <td>NaN</td>\n",
       "      <td>NaN</td>\n",
       "      <td>Roger Voss</td>\n",
       "      <td>@vossroger</td>\n",
       "      <td>Winzer Krems 2011 Edition Chremisa Sandgrube 1...</td>\n",
       "      <td>Grüner Veltliner</td>\n",
       "      <td>Winzer Krems</td>\n",
       "      <td>NaN</td>\n",
       "    </tr>\n",
       "    <tr>\n",
       "      <th>126883</th>\n",
       "      <td>US</td>\n",
       "      <td>$10 for this very drinkable Cab? That's crazy....</td>\n",
       "      <td>NaN</td>\n",
       "      <td>87</td>\n",
       "      <td>10.0</td>\n",
       "      <td>California</td>\n",
       "      <td>North Coast</td>\n",
       "      <td>North Coast</td>\n",
       "      <td>Virginie Boone</td>\n",
       "      <td>@vboone</td>\n",
       "      <td>Line 39 2009 Cabernet Sauvignon (North Coast)</td>\n",
       "      <td>Cabernet Sauvignon</td>\n",
       "      <td>Line 39</td>\n",
       "      <td>NaN</td>\n",
       "    </tr>\n",
       "    <tr>\n",
       "      <th>119493</th>\n",
       "      <td>US</td>\n",
       "      <td>$14 is a pretty good price for a Chardonnay th...</td>\n",
       "      <td>Whiplash</td>\n",
       "      <td>86</td>\n",
       "      <td>14.0</td>\n",
       "      <td>California</td>\n",
       "      <td>California</td>\n",
       "      <td>California Other</td>\n",
       "      <td>NaN</td>\n",
       "      <td>NaN</td>\n",
       "      <td>Jamieson Ranch 2011 Whiplash Chardonnay (Calif...</td>\n",
       "      <td>Chardonnay</td>\n",
       "      <td>Jamieson Ranch</td>\n",
       "      <td>NaN</td>\n",
       "    </tr>\n",
       "    <tr>\n",
       "      <th>126909</th>\n",
       "      <td>Spain</td>\n",
       "      <td>). Earth, cola and leather aromas are good, ho...</td>\n",
       "      <td>Finca Resalso</td>\n",
       "      <td>86</td>\n",
       "      <td>15.0</td>\n",
       "      <td>Northern Spain</td>\n",
       "      <td>Ribera del Duero</td>\n",
       "      <td>NaN</td>\n",
       "      <td>Michael Schachner</td>\n",
       "      <td>@wineschach</td>\n",
       "      <td>Emilio Moro 2009 Finca Resalso  (Ribera del Du...</td>\n",
       "      <td>Tinto Fino</td>\n",
       "      <td>Emilio Moro</td>\n",
       "      <td>NaN</td>\n",
       "    </tr>\n",
       "    <tr>\n",
       "      <th>119752</th>\n",
       "      <td>Spain</td>\n",
       "      <td>). Light and lemony on the nose. The palate ha...</td>\n",
       "      <td>NaN</td>\n",
       "      <td>87</td>\n",
       "      <td>17.0</td>\n",
       "      <td>Galicia</td>\n",
       "      <td>Rías Baixas</td>\n",
       "      <td>NaN</td>\n",
       "      <td>Michael Schachner</td>\n",
       "      <td>@wineschach</td>\n",
       "      <td>La Caña 2010 Albariño (Rías Baixas)</td>\n",
       "      <td>Albariño</td>\n",
       "      <td>La Caña</td>\n",
       "      <td>NaN</td>\n",
       "    </tr>\n",
       "  </tbody>\n",
       "</table>\n",
       "</div>"
      ],
      "text/plain": [
       "        country                                        description  \\\n",
       "id                                                                   \n",
       "94355   Austria  \"Chremisa,\" the ancient name of Krems, is comm...   \n",
       "126883       US  $10 for this very drinkable Cab? That's crazy....   \n",
       "119493       US  $14 is a pretty good price for a Chardonnay th...   \n",
       "126909    Spain  ). Earth, cola and leather aromas are good, ho...   \n",
       "119752    Spain  ). Light and lemony on the nose. The palate ha...   \n",
       "\n",
       "                          designation  points  price          province  \\\n",
       "id                                                                       \n",
       "94355   Edition Chremisa Sandgrube 13      85   24.0  Niederösterreich   \n",
       "126883                            NaN      87   10.0        California   \n",
       "119493                       Whiplash      86   14.0        California   \n",
       "126909                  Finca Resalso      86   15.0    Northern Spain   \n",
       "119752                            NaN      87   17.0           Galicia   \n",
       "\n",
       "                region_1          region_2        taster_name  \\\n",
       "id                                                              \n",
       "94355                NaN               NaN         Roger Voss   \n",
       "126883       North Coast       North Coast     Virginie Boone   \n",
       "119493        California  California Other                NaN   \n",
       "126909  Ribera del Duero               NaN  Michael Schachner   \n",
       "119752       Rías Baixas               NaN  Michael Schachner   \n",
       "\n",
       "       taster_twitter_handle  \\\n",
       "id                             \n",
       "94355             @vossroger   \n",
       "126883               @vboone   \n",
       "119493                   NaN   \n",
       "126909           @wineschach   \n",
       "119752           @wineschach   \n",
       "\n",
       "                                                    title             variety  \\\n",
       "id                                                                              \n",
       "94355   Winzer Krems 2011 Edition Chremisa Sandgrube 1...    Grüner Veltliner   \n",
       "126883      Line 39 2009 Cabernet Sauvignon (North Coast)  Cabernet Sauvignon   \n",
       "119493  Jamieson Ranch 2011 Whiplash Chardonnay (Calif...          Chardonnay   \n",
       "126909  Emilio Moro 2009 Finca Resalso  (Ribera del Du...          Tinto Fino   \n",
       "119752                La Caña 2010 Albariño (Rías Baixas)            Albariño   \n",
       "\n",
       "                winery  dupe?  \n",
       "id                             \n",
       "94355     Winzer Krems    NaN  \n",
       "126883         Line 39    NaN  \n",
       "119493  Jamieson Ranch    NaN  \n",
       "126909     Emilio Moro    NaN  \n",
       "119752         La Caña    NaN  "
      ]
     },
     "execution_count": 27,
     "metadata": {},
     "output_type": "execute_result"
    }
   ],
   "source": [
    "wine_reviews = pd.read_csv(\"winemag-data-130k-v2.csv\", index_col=0)\n",
    "wine_reviews.head()"
   ]
  },
  {
   "cell_type": "markdown",
   "id": "ba714011",
   "metadata": {
    "papermill": {
     "duration": 0.022105,
     "end_time": "2022-02-08T16:44:15.093935",
     "exception": false,
     "start_time": "2022-02-08T16:44:15.071830",
     "status": "completed"
    },
    "tags": []
   },
   "source": [
    "# Your turn\n",
    "\n"
   ]
  },
  {
   "cell_type": "code",
   "execution_count": 47,
   "id": "dc90b896-f849-4ed7-ab10-cf731eda2fbf",
   "metadata": {},
   "outputs": [
    {
     "data": {
      "text/plain": [
       "Index([80210, 76487, 86953, 18824, 88999], dtype='int64', name='id')"
      ]
     },
     "execution_count": 47,
     "metadata": {},
     "output_type": "execute_result"
    }
   ],
   "source": [
    "wine_reviews.index[-5:]"
   ]
  },
  {
   "cell_type": "code",
   "execution_count": 49,
   "id": "212bf5f3-a53b-4fd3-a544-8f1c40e32e14",
   "metadata": {},
   "outputs": [
    {
     "data": {
      "text/html": [
       "<div>\n",
       "<style scoped>\n",
       "    .dataframe tbody tr th:only-of-type {\n",
       "        vertical-align: middle;\n",
       "    }\n",
       "\n",
       "    .dataframe tbody tr th {\n",
       "        vertical-align: top;\n",
       "    }\n",
       "\n",
       "    .dataframe thead th {\n",
       "        text-align: right;\n",
       "    }\n",
       "</style>\n",
       "<table border=\"1\" class=\"dataframe\">\n",
       "  <thead>\n",
       "    <tr style=\"text-align: right;\">\n",
       "      <th></th>\n",
       "      <th>country</th>\n",
       "      <th>description</th>\n",
       "      <th>designation</th>\n",
       "      <th>points</th>\n",
       "      <th>price</th>\n",
       "      <th>province</th>\n",
       "      <th>region_1</th>\n",
       "      <th>region_2</th>\n",
       "      <th>taster_name</th>\n",
       "      <th>taster_twitter_handle</th>\n",
       "      <th>title</th>\n",
       "      <th>variety</th>\n",
       "      <th>winery</th>\n",
       "      <th>dupe?</th>\n",
       "    </tr>\n",
       "    <tr>\n",
       "      <th>id</th>\n",
       "      <th></th>\n",
       "      <th></th>\n",
       "      <th></th>\n",
       "      <th></th>\n",
       "      <th></th>\n",
       "      <th></th>\n",
       "      <th></th>\n",
       "      <th></th>\n",
       "      <th></th>\n",
       "      <th></th>\n",
       "      <th></th>\n",
       "      <th></th>\n",
       "      <th></th>\n",
       "      <th></th>\n",
       "    </tr>\n",
       "  </thead>\n",
       "  <tbody>\n",
       "    <tr>\n",
       "      <th>80210</th>\n",
       "      <td>Italy</td>\n",
       "      <td>Zonchera is Ceretto's more affordable base Bar...</td>\n",
       "      <td>Zonchera</td>\n",
       "      <td>90</td>\n",
       "      <td>48.0</td>\n",
       "      <td>Piedmont</td>\n",
       "      <td>Barolo</td>\n",
       "      <td>NaN</td>\n",
       "      <td>NaN</td>\n",
       "      <td>NaN</td>\n",
       "      <td>Ceretto 2004 Zonchera  (Barolo)</td>\n",
       "      <td>Nebbiolo</td>\n",
       "      <td>Ceretto</td>\n",
       "      <td>NaN</td>\n",
       "    </tr>\n",
       "    <tr>\n",
       "      <th>76487</th>\n",
       "      <td>Italy</td>\n",
       "      <td>Zonin's 2006 Amarone opens with very ripe arom...</td>\n",
       "      <td>NaN</td>\n",
       "      <td>88</td>\n",
       "      <td>70.0</td>\n",
       "      <td>Veneto</td>\n",
       "      <td>Amarone della Valpolicella</td>\n",
       "      <td>NaN</td>\n",
       "      <td>NaN</td>\n",
       "      <td>NaN</td>\n",
       "      <td>Zonin 2006  Amarone della Valpolicella</td>\n",
       "      <td>Corvina, Rondinella, Molinara</td>\n",
       "      <td>Zonin</td>\n",
       "      <td>NaN</td>\n",
       "    </tr>\n",
       "    <tr>\n",
       "      <th>86953</th>\n",
       "      <td>Italy</td>\n",
       "      <td>Zorzettig's precious Picolit dessert wine deli...</td>\n",
       "      <td>NaN</td>\n",
       "      <td>90</td>\n",
       "      <td>NaN</td>\n",
       "      <td>Northeastern Italy</td>\n",
       "      <td>Colli Orientali del Friuli</td>\n",
       "      <td>NaN</td>\n",
       "      <td>NaN</td>\n",
       "      <td>NaN</td>\n",
       "      <td>Zorzettig 2006 Picolit (Colli Orientali del Fr...</td>\n",
       "      <td>Picolit</td>\n",
       "      <td>Zorzettig</td>\n",
       "      <td>NaN</td>\n",
       "    </tr>\n",
       "    <tr>\n",
       "      <th>18824</th>\n",
       "      <td>US</td>\n",
       "      <td>Zucca has made a fragrant and floral Sangioves...</td>\n",
       "      <td>Sangiovese Rosato</td>\n",
       "      <td>87</td>\n",
       "      <td>18.0</td>\n",
       "      <td>California</td>\n",
       "      <td>Amador County</td>\n",
       "      <td>Sierra Foothills</td>\n",
       "      <td>Virginie Boone</td>\n",
       "      <td>@vboone</td>\n",
       "      <td>Zucca 2010 Sangiovese Rosato Rosé (Amador County)</td>\n",
       "      <td>Rosé</td>\n",
       "      <td>Zucca</td>\n",
       "      <td>NaN</td>\n",
       "    </tr>\n",
       "    <tr>\n",
       "      <th>88999</th>\n",
       "      <td>Austria</td>\n",
       "      <td>Zweigelt can do easy-drinking styles but in th...</td>\n",
       "      <td>Heideboden</td>\n",
       "      <td>90</td>\n",
       "      <td>26.0</td>\n",
       "      <td>Burgenland</td>\n",
       "      <td>NaN</td>\n",
       "      <td>NaN</td>\n",
       "      <td>Anne Krebiehl MW</td>\n",
       "      <td>@AnneInVino</td>\n",
       "      <td>Nittnaus Hans und Christine 2013 Heideboden Zw...</td>\n",
       "      <td>Zweigelt</td>\n",
       "      <td>Nittnaus Hans und Christine</td>\n",
       "      <td>NaN</td>\n",
       "    </tr>\n",
       "  </tbody>\n",
       "</table>\n",
       "</div>"
      ],
      "text/plain": [
       "       country                                        description  \\\n",
       "id                                                                  \n",
       "80210    Italy  Zonchera is Ceretto's more affordable base Bar...   \n",
       "76487    Italy  Zonin's 2006 Amarone opens with very ripe arom...   \n",
       "86953    Italy  Zorzettig's precious Picolit dessert wine deli...   \n",
       "18824       US  Zucca has made a fragrant and floral Sangioves...   \n",
       "88999  Austria  Zweigelt can do easy-drinking styles but in th...   \n",
       "\n",
       "             designation  points  price            province  \\\n",
       "id                                                            \n",
       "80210           Zonchera      90   48.0            Piedmont   \n",
       "76487                NaN      88   70.0              Veneto   \n",
       "86953                NaN      90    NaN  Northeastern Italy   \n",
       "18824  Sangiovese Rosato      87   18.0          California   \n",
       "88999         Heideboden      90   26.0          Burgenland   \n",
       "\n",
       "                         region_1          region_2       taster_name  \\\n",
       "id                                                                      \n",
       "80210                      Barolo               NaN               NaN   \n",
       "76487  Amarone della Valpolicella               NaN               NaN   \n",
       "86953  Colli Orientali del Friuli               NaN               NaN   \n",
       "18824               Amador County  Sierra Foothills    Virginie Boone   \n",
       "88999                         NaN               NaN  Anne Krebiehl MW   \n",
       "\n",
       "      taster_twitter_handle  \\\n",
       "id                            \n",
       "80210                   NaN   \n",
       "76487                   NaN   \n",
       "86953                   NaN   \n",
       "18824               @vboone   \n",
       "88999           @AnneInVino   \n",
       "\n",
       "                                                   title  \\\n",
       "id                                                         \n",
       "80210                    Ceretto 2004 Zonchera  (Barolo)   \n",
       "76487             Zonin 2006  Amarone della Valpolicella   \n",
       "86953  Zorzettig 2006 Picolit (Colli Orientali del Fr...   \n",
       "18824  Zucca 2010 Sangiovese Rosato Rosé (Amador County)   \n",
       "88999  Nittnaus Hans und Christine 2013 Heideboden Zw...   \n",
       "\n",
       "                             variety                       winery  dupe?  \n",
       "id                                                                        \n",
       "80210                       Nebbiolo                      Ceretto    NaN  \n",
       "76487  Corvina, Rondinella, Molinara                        Zonin    NaN  \n",
       "86953                        Picolit                    Zorzettig    NaN  \n",
       "18824                           Rosé                        Zucca    NaN  \n",
       "88999                       Zweigelt  Nittnaus Hans und Christine    NaN  "
      ]
     },
     "execution_count": 49,
     "metadata": {},
     "output_type": "execute_result"
    }
   ],
   "source": [
    "wine_reviews.loc[wine_reviews.index[-5:]]"
   ]
  },
  {
   "cell_type": "code",
   "execution_count": null,
   "id": "60d1ba37-ebde-476a-91d0-6798b4423b45",
   "metadata": {},
   "outputs": [],
   "source": []
  }
 ],
 "metadata": {
  "kernelspec": {
   "display_name": "Python 3 (ipykernel)",
   "language": "python",
   "name": "python3"
  },
  "language_info": {
   "codemirror_mode": {
    "name": "ipython",
    "version": 3
   },
   "file_extension": ".py",
   "mimetype": "text/x-python",
   "name": "python",
   "nbconvert_exporter": "python",
   "pygments_lexer": "ipython3",
   "version": "3.11.7"
  },
  "papermill": {
   "default_parameters": {},
   "duration": 12.263247,
   "end_time": "2022-02-08T16:44:15.771485",
   "environment_variables": {},
   "exception": null,
   "input_path": "__notebook__.ipynb",
   "output_path": "__notebook__.ipynb",
   "parameters": {},
   "start_time": "2022-02-08T16:44:03.508238",
   "version": "2.3.3"
  }
 },
 "nbformat": 4,
 "nbformat_minor": 5
}
