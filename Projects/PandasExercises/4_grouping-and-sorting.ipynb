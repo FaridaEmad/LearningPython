{
 "cells": [
  {
   "cell_type": "markdown",
   "id": "80ba977a",
   "metadata": {
    "papermill": {
     "duration": 0.017473,
     "end_time": "2022-02-08T16:47:58.719091",
     "exception": false,
     "start_time": "2022-02-08T16:47:58.701618",
     "status": "completed"
    },
    "tags": []
   },
   "source": [
    "# Introduction\n",
    "\n",
    "Maps allow us to transform data in a DataFrame or Series one value at a time for an entire column. However, often we want to group our data, and then do something specific to the group the data is in. \n",
    "\n",
    "As you'll learn, we do this with the `groupby()` operation.  We'll also cover some additional topics, such as more complex ways to index your DataFrames, along with how to sort your data.\n",
    "\n",
    "\n",
    "# Groupwise analysis\n",
    "\n",
    "One function we've been using heavily thus far is the `value_counts()` function. We can replicate what `value_counts()` does by doing the following:"
   ]
  },
  {
   "cell_type": "code",
   "execution_count": 1,
   "id": "8c6786de",
   "metadata": {
    "_kg_hide-input": true,
    "papermill": {
     "duration": 1.718353,
     "end_time": "2022-02-08T16:48:00.453714",
     "exception": false,
     "start_time": "2022-02-08T16:47:58.735361",
     "status": "completed"
    },
    "tags": []
   },
   "outputs": [],
   "source": [
    "\n",
    "import pandas as pd\n",
    "reviews = pd.read_csv(\"winemag-data-130k-v2.csv\", index_col=0)\n",
    "pd.set_option(\"display.max_rows\", 5)"
   ]
  },
  {
   "cell_type": "code",
   "execution_count": 3,
   "id": "77453fea",
   "metadata": {
    "papermill": {
     "duration": 0.035616,
     "end_time": "2022-02-08T16:48:00.505882",
     "exception": false,
     "start_time": "2022-02-08T16:48:00.470266",
     "status": "completed"
    },
    "tags": []
   },
   "outputs": [
    {
     "data": {
      "text/plain": [
       "points\n",
       "80     397\n",
       "81     689\n",
       "      ... \n",
       "99      33\n",
       "100     19\n",
       "Name: points, Length: 21, dtype: int64"
      ]
     },
     "execution_count": 3,
     "metadata": {},
     "output_type": "execute_result"
    }
   ],
   "source": [
    "reviews.groupby('points').points.count()"
   ]
  },
  {
   "cell_type": "markdown",
   "id": "ce0fd17c",
   "metadata": {
    "papermill": {
     "duration": 0.018592,
     "end_time": "2022-02-08T16:48:00.542218",
     "exception": false,
     "start_time": "2022-02-08T16:48:00.523626",
     "status": "completed"
    },
    "tags": []
   },
   "source": [
    "`groupby()` created a group of reviews which allotted the same point values to the given wines. Then, for each of these groups, we grabbed the `points()` column and counted how many times it appeared.  `value_counts()` is just a shortcut to this `groupby()` operation. \n",
    "\n",
    "We can use any of the summary functions we've used before with this data. For example, to get the cheapest wine in each point value category, we can do the following:"
   ]
  },
  {
   "cell_type": "code",
   "execution_count": 5,
   "id": "88a4c666",
   "metadata": {
    "papermill": {
     "duration": 0.033529,
     "end_time": "2022-02-08T16:48:00.592752",
     "exception": false,
     "start_time": "2022-02-08T16:48:00.559223",
     "status": "completed"
    },
    "tags": []
   },
   "outputs": [
    {
     "data": {
      "text/plain": [
       "points\n",
       "80      5.0\n",
       "81      5.0\n",
       "       ... \n",
       "99     44.0\n",
       "100    80.0\n",
       "Name: price, Length: 21, dtype: float64"
      ]
     },
     "execution_count": 5,
     "metadata": {},
     "output_type": "execute_result"
    }
   ],
   "source": [
    "reviews.groupby('points').price.min() "
   ]
  },
  {
   "cell_type": "markdown",
   "id": "1f8e9e2b",
   "metadata": {
    "papermill": {
     "duration": 0.02312,
     "end_time": "2022-02-08T16:48:03.003878",
     "exception": false,
     "start_time": "2022-02-08T16:48:02.980758",
     "status": "completed"
    },
    "tags": []
   },
   "source": [
    "# Your turn\n",
    "\n"
   ]
  },
  {
   "cell_type": "code",
   "execution_count": 13,
   "id": "860b63c4-dbfc-461d-b621-c7c6254c5f5d",
   "metadata": {},
   "outputs": [
    {
     "data": {
      "text/plain": [
       "points  price \n",
       "80      5.0       2\n",
       "        6.0       3\n",
       "                 ..\n",
       "100     848.0     1\n",
       "        1500.0    2\n",
       "Name: points, Length: 2313, dtype: int64"
      ]
     },
     "execution_count": 13,
     "metadata": {},
     "output_type": "execute_result"
    }
   ],
   "source": [
    "reviews.groupby(['points', 'price']).points.count()"
   ]
  },
  {
   "cell_type": "code",
   "execution_count": 15,
   "id": "31776bc0-96be-4176-818b-959f697b528e",
   "metadata": {},
   "outputs": [
    {
     "data": {
      "text/html": [
       "<div>\n",
       "<style scoped>\n",
       "    .dataframe tbody tr th:only-of-type {\n",
       "        vertical-align: middle;\n",
       "    }\n",
       "\n",
       "    .dataframe tbody tr th {\n",
       "        vertical-align: top;\n",
       "    }\n",
       "\n",
       "    .dataframe thead th {\n",
       "        text-align: right;\n",
       "    }\n",
       "</style>\n",
       "<table border=\"1\" class=\"dataframe\">\n",
       "  <thead>\n",
       "    <tr style=\"text-align: right;\">\n",
       "      <th></th>\n",
       "      <th>country</th>\n",
       "      <th>description</th>\n",
       "      <th>designation</th>\n",
       "      <th>price</th>\n",
       "      <th>province</th>\n",
       "      <th>region_1</th>\n",
       "      <th>region_2</th>\n",
       "      <th>taster_name</th>\n",
       "      <th>taster_twitter_handle</th>\n",
       "      <th>title</th>\n",
       "      <th>variety</th>\n",
       "      <th>winery</th>\n",
       "      <th>dupe?</th>\n",
       "    </tr>\n",
       "    <tr>\n",
       "      <th>points</th>\n",
       "      <th></th>\n",
       "      <th></th>\n",
       "      <th></th>\n",
       "      <th></th>\n",
       "      <th></th>\n",
       "      <th></th>\n",
       "      <th></th>\n",
       "      <th></th>\n",
       "      <th></th>\n",
       "      <th></th>\n",
       "      <th></th>\n",
       "      <th></th>\n",
       "      <th></th>\n",
       "    </tr>\n",
       "  </thead>\n",
       "  <tbody>\n",
       "    <tr>\n",
       "      <th>80</th>\n",
       "      <td>397</td>\n",
       "      <td>397</td>\n",
       "      <td>250</td>\n",
       "      <td>395</td>\n",
       "      <td>397</td>\n",
       "      <td>328</td>\n",
       "      <td>136</td>\n",
       "      <td>275</td>\n",
       "      <td>271</td>\n",
       "      <td>397</td>\n",
       "      <td>397</td>\n",
       "      <td>397</td>\n",
       "      <td>0</td>\n",
       "    </tr>\n",
       "    <tr>\n",
       "      <th>81</th>\n",
       "      <td>689</td>\n",
       "      <td>689</td>\n",
       "      <td>405</td>\n",
       "      <td>677</td>\n",
       "      <td>689</td>\n",
       "      <td>581</td>\n",
       "      <td>292</td>\n",
       "      <td>431</td>\n",
       "      <td>421</td>\n",
       "      <td>689</td>\n",
       "      <td>689</td>\n",
       "      <td>689</td>\n",
       "      <td>0</td>\n",
       "    </tr>\n",
       "    <tr>\n",
       "      <th>...</th>\n",
       "      <td>...</td>\n",
       "      <td>...</td>\n",
       "      <td>...</td>\n",
       "      <td>...</td>\n",
       "      <td>...</td>\n",
       "      <td>...</td>\n",
       "      <td>...</td>\n",
       "      <td>...</td>\n",
       "      <td>...</td>\n",
       "      <td>...</td>\n",
       "      <td>...</td>\n",
       "      <td>...</td>\n",
       "      <td>...</td>\n",
       "    </tr>\n",
       "    <tr>\n",
       "      <th>99</th>\n",
       "      <td>33</td>\n",
       "      <td>33</td>\n",
       "      <td>29</td>\n",
       "      <td>28</td>\n",
       "      <td>33</td>\n",
       "      <td>31</td>\n",
       "      <td>12</td>\n",
       "      <td>21</td>\n",
       "      <td>21</td>\n",
       "      <td>33</td>\n",
       "      <td>33</td>\n",
       "      <td>33</td>\n",
       "      <td>0</td>\n",
       "    </tr>\n",
       "    <tr>\n",
       "      <th>100</th>\n",
       "      <td>19</td>\n",
       "      <td>19</td>\n",
       "      <td>13</td>\n",
       "      <td>19</td>\n",
       "      <td>19</td>\n",
       "      <td>17</td>\n",
       "      <td>4</td>\n",
       "      <td>14</td>\n",
       "      <td>14</td>\n",
       "      <td>19</td>\n",
       "      <td>19</td>\n",
       "      <td>19</td>\n",
       "      <td>0</td>\n",
       "    </tr>\n",
       "  </tbody>\n",
       "</table>\n",
       "<p>21 rows × 13 columns</p>\n",
       "</div>"
      ],
      "text/plain": [
       "        country  description  designation  price  province  region_1  \\\n",
       "points                                                                 \n",
       "80          397          397          250    395       397       328   \n",
       "81          689          689          405    677       689       581   \n",
       "...         ...          ...          ...    ...       ...       ...   \n",
       "99           33           33           29     28        33        31   \n",
       "100          19           19           13     19        19        17   \n",
       "\n",
       "        region_2  taster_name  taster_twitter_handle  title  variety  winery  \\\n",
       "points                                                                         \n",
       "80           136          275                    271    397      397     397   \n",
       "81           292          431                    421    689      689     689   \n",
       "...          ...          ...                    ...    ...      ...     ...   \n",
       "99            12           21                     21     33       33      33   \n",
       "100            4           14                     14     19       19      19   \n",
       "\n",
       "        dupe?  \n",
       "points         \n",
       "80          0  \n",
       "81          0  \n",
       "...       ...  \n",
       "99          0  \n",
       "100         0  \n",
       "\n",
       "[21 rows x 13 columns]"
      ]
     },
     "execution_count": 15,
     "metadata": {},
     "output_type": "execute_result"
    }
   ],
   "source": [
    "reviews.groupby('points').count()"
   ]
  },
  {
   "cell_type": "code",
   "execution_count": null,
   "id": "de7c4faa-90b1-466a-9131-fc39c7be8160",
   "metadata": {},
   "outputs": [],
   "source": []
  }
 ],
 "metadata": {
  "kernelspec": {
   "display_name": "Python 3 (ipykernel)",
   "language": "python",
   "name": "python3"
  },
  "language_info": {
   "codemirror_mode": {
    "name": "ipython",
    "version": 3
   },
   "file_extension": ".py",
   "mimetype": "text/x-python",
   "name": "python",
   "nbconvert_exporter": "python",
   "pygments_lexer": "ipython3",
   "version": "3.11.7"
  },
  "papermill": {
   "default_parameters": {},
   "duration": 15.514261,
   "end_time": "2022-02-08T16:48:03.886622",
   "environment_variables": {},
   "exception": null,
   "input_path": "__notebook__.ipynb",
   "output_path": "__notebook__.ipynb",
   "parameters": {},
   "start_time": "2022-02-08T16:47:48.372361",
   "version": "2.3.3"
  }
 },
 "nbformat": 4,
 "nbformat_minor": 5
}
