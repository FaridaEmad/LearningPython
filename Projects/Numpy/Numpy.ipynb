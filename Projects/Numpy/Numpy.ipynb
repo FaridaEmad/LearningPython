{
 "cells": [
  {
   "cell_type": "code",
   "execution_count": 9,
   "id": "318c09b3-e6db-4fc9-9ad3-f8d56e2b5ef0",
   "metadata": {},
   "outputs": [],
   "source": [
    "import numpy as np"
   ]
  },
  {
   "cell_type": "code",
   "execution_count": 11,
   "id": "5ae6dd19-0009-40f2-b7fb-d03cc7019bcd",
   "metadata": {},
   "outputs": [
    {
     "data": {
      "text/plain": [
       "7.795373486895956"
      ]
     },
     "execution_count": 11,
     "metadata": {},
     "output_type": "execute_result"
    }
   ],
   "source": [
    "# random decimal number between 1 and 10\n",
    "a = np.random.uniform(1,10)\n",
    "a"
   ]
  },
  {
   "cell_type": "code",
   "execution_count": 13,
   "id": "9c06ab59-a26a-4af0-a4dc-e8f77c4503a9",
   "metadata": {},
   "outputs": [
    {
     "data": {
      "text/plain": [
       "array([3.74109196, 2.42843294, 3.26125913, 6.72961481, 1.20611715])"
      ]
     },
     "execution_count": 13,
     "metadata": {},
     "output_type": "execute_result"
    }
   ],
   "source": [
    "# 5 random decimal number between 1 and 10\n",
    "z = np.random.uniform(1,10,5)\n",
    "z"
   ]
  },
  {
   "cell_type": "code",
   "execution_count": 21,
   "id": "8f55eccc-0cd9-4e8b-a75c-0683c1fc2509",
   "metadata": {},
   "outputs": [
    {
     "data": {
      "text/plain": [
       "array([0.60726489, 0.68468918, 0.58216927])"
      ]
     },
     "execution_count": 21,
     "metadata": {},
     "output_type": "execute_result"
    }
   ],
   "source": [
    "# three random numbers between 0 to 1 \n",
    "x = np.random.random(3)\n",
    "x"
   ]
  },
  {
   "cell_type": "code",
   "execution_count": 23,
   "id": "3a95d9be-7389-4581-b9a0-f42c22af9c27",
   "metadata": {},
   "outputs": [
    {
     "data": {
      "text/plain": [
       "array([0.18518476, 0.48999378, 0.87000938])"
      ]
     },
     "execution_count": 23,
     "metadata": {},
     "output_type": "execute_result"
    }
   ],
   "source": [
    "# three random numbers between 0 to 1 \n",
    "x = np.random.rand(3)\n",
    "x"
   ]
  },
  {
   "cell_type": "code",
   "execution_count": 25,
   "id": "dfaab2fd-f226-401b-8ecf-07ecfae57a54",
   "metadata": {},
   "outputs": [
    {
     "data": {
      "text/plain": [
       "array([[0.33139428, 0.67675855, 0.35120328],\n",
       "       [0.04545948, 0.53413461, 0.06786331]])"
      ]
     },
     "execution_count": 25,
     "metadata": {},
     "output_type": "execute_result"
    }
   ],
   "source": [
    "# matrix of 2x3 of random numbers between 0 & 1\n",
    "a = np.random.random((2,3))\n",
    "a"
   ]
  },
  {
   "cell_type": "code",
   "execution_count": 37,
   "id": "4fff7dec-698c-4054-9e9d-328270f29d47",
   "metadata": {},
   "outputs": [
    {
     "data": {
      "text/plain": [
       "[331.3942775241465,\n",
       " 676.7585474488047,\n",
       " 351.2032828932967,\n",
       " 45.45948482889317,\n",
       " 534.1346081814058,\n",
       " 67.86331184511451]"
      ]
     },
     "execution_count": 37,
     "metadata": {},
     "output_type": "execute_result"
    }
   ],
   "source": [
    "allList = []\n",
    "for j in list([list(i) for i in a]):\n",
    "    allList.extend(j)\n",
    "allList = [i*1000 for i in allList]\n",
    "allList"
   ]
  },
  {
   "cell_type": "code",
   "execution_count": 39,
   "id": "b7ad202e-f7e1-44ba-92d4-6fbd4fc1b32a",
   "metadata": {},
   "outputs": [
    {
     "data": {
      "text/plain": [
       "[331.0, 677.0, 351.0, 45.0, 534.0, 68.0]"
      ]
     },
     "execution_count": 39,
     "metadata": {},
     "output_type": "execute_result"
    }
   ],
   "source": [
    "roundList = [np.round(i) for i in allList]\n",
    "roundList"
   ]
  },
  {
   "cell_type": "code",
   "execution_count": 41,
   "id": "9032d3cb-2f39-4ed9-9076-64b9b4afb7a0",
   "metadata": {},
   "outputs": [
    {
     "data": {
      "text/plain": [
       "[331.39, 676.76, 351.2, 45.46, 534.13, 67.86]"
      ]
     },
     "execution_count": 41,
     "metadata": {},
     "output_type": "execute_result"
    }
   ],
   "source": [
    "roundList = [np.round(i,2) for i in allList]\n",
    "roundList"
   ]
  },
  {
   "cell_type": "code",
   "execution_count": 43,
   "id": "68033a69-e5d5-437b-baa7-1d443e986785",
   "metadata": {},
   "outputs": [
    {
     "data": {
      "text/plain": [
       "15.0"
      ]
     },
     "execution_count": 43,
     "metadata": {},
     "output_type": "execute_result"
    }
   ],
   "source": [
    "np.round(15.1)"
   ]
  },
  {
   "cell_type": "code",
   "execution_count": 45,
   "id": "fadf98da-3614-4030-963e-d3d16fbc6f50",
   "metadata": {},
   "outputs": [
    {
     "data": {
      "text/plain": [
       "16.0"
      ]
     },
     "execution_count": 45,
     "metadata": {},
     "output_type": "execute_result"
    }
   ],
   "source": [
    "np.round(15.9)"
   ]
  },
  {
   "cell_type": "code",
   "execution_count": 49,
   "id": "de519730-61b5-4c95-9640-e1b0b157e6a7",
   "metadata": {},
   "outputs": [
    {
     "data": {
      "text/plain": [
       "(15.0, 15.0)"
      ]
     },
     "execution_count": 49,
     "metadata": {},
     "output_type": "execute_result"
    }
   ],
   "source": [
    "np.floor(15.1),np.floor(15.9)"
   ]
  },
  {
   "cell_type": "code",
   "execution_count": 51,
   "id": "6d4d6834-8565-410f-a3ac-c0ba88da3bda",
   "metadata": {},
   "outputs": [
    {
     "data": {
      "text/plain": [
       "(16.0, 16.0)"
      ]
     },
     "execution_count": 51,
     "metadata": {},
     "output_type": "execute_result"
    }
   ],
   "source": [
    "np.ceil(15.1),np.ceil(15.9)"
   ]
  },
  {
   "cell_type": "code",
   "execution_count": null,
   "id": "82c8366b-d336-45e4-8472-43a6eb2ad77f",
   "metadata": {},
   "outputs": [],
   "source": []
  }
 ],
 "metadata": {
  "kernelspec": {
   "display_name": "Python 3 (ipykernel)",
   "language": "python",
   "name": "python3"
  },
  "language_info": {
   "codemirror_mode": {
    "name": "ipython",
    "version": 3
   },
   "file_extension": ".py",
   "mimetype": "text/x-python",
   "name": "python",
   "nbconvert_exporter": "python",
   "pygments_lexer": "ipython3",
   "version": "3.11.7"
  }
 },
 "nbformat": 4,
 "nbformat_minor": 5
}
