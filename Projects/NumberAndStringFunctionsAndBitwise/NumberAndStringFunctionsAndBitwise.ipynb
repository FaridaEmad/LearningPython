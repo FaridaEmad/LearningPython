{
  "nbformat": 4,
  "nbformat_minor": 0,
  "metadata": {
    "colab": {
      "provenance": []
    },
    "kernelspec": {
      "name": "python3",
      "display_name": "Python 3"
    },
    "language_info": {
      "name": "python"
    }
  },
  "cells": [
    {
      "cell_type": "markdown",
      "source": [
        "# ***Common Number Functions***"
      ],
      "metadata": {
        "id": "0aMgXoraNl1e"
      }
    },
    {
      "cell_type": "code",
      "source": [
        "from math import sqrt\n",
        "from math import log"
      ],
      "metadata": {
        "id": "6f4Dw7FQQbfj"
      },
      "execution_count": null,
      "outputs": []
    },
    {
      "cell_type": "code",
      "execution_count": null,
      "metadata": {
        "colab": {
          "base_uri": "https://localhost:8080/"
        },
        "id": "zMC8EXz7Nka2",
        "outputId": "55359022-58d3-4d5f-db91-d9b22d365ee1"
      },
      "outputs": [
        {
          "output_type": "execute_result",
          "data": {
            "text/plain": [
              "5"
            ]
          },
          "metadata": {},
          "execution_count": 8
        }
      ],
      "source": [
        "floatNum = 5.6\n",
        "int(floatNum)"
      ]
    },
    {
      "cell_type": "code",
      "source": [
        "intNum = 4\n",
        "float(intNum)"
      ],
      "metadata": {
        "colab": {
          "base_uri": "https://localhost:8080/"
        },
        "id": "OkrTado4OLcM",
        "outputId": "c0804636-c508-4f6e-f591-e785b7e69a56"
      },
      "execution_count": null,
      "outputs": [
        {
          "output_type": "execute_result",
          "data": {
            "text/plain": [
              "4.0"
            ]
          },
          "metadata": {},
          "execution_count": 9
        }
      ]
    },
    {
      "cell_type": "code",
      "source": [
        "negNum = -8\n",
        "abs(negNum)"
      ],
      "metadata": {
        "colab": {
          "base_uri": "https://localhost:8080/"
        },
        "id": "b7oJtvjwOUWf",
        "outputId": "4a9ac8d8-60f6-4b26-994e-9b9e06ee91b5"
      },
      "execution_count": null,
      "outputs": [
        {
          "output_type": "execute_result",
          "data": {
            "text/plain": [
              "8"
            ]
          },
          "metadata": {},
          "execution_count": 10
        }
      ]
    },
    {
      "cell_type": "code",
      "source": [
        "# Compare between to numbers -1 if first<second, 0 if first=second, 1 if first>second\n",
        "#cmp(floatNum, intNum)\n",
        "# Only available in python 2"
      ],
      "metadata": {
        "id": "tuQEDa1uOdxG"
      },
      "execution_count": null,
      "outputs": []
    },
    {
      "cell_type": "code",
      "source": [
        "# return square root , but you have first to import it from math library\n",
        "sqrt(intNum)"
      ],
      "metadata": {
        "colab": {
          "base_uri": "https://localhost:8080/"
        },
        "id": "-1NnpPCoO91K",
        "outputId": "ea3a5bf0-fdab-4c62-9ca0-e7e3b42f4e7c"
      },
      "execution_count": null,
      "outputs": [
        {
          "output_type": "execute_result",
          "data": {
            "text/plain": [
              "2.0"
            ]
          },
          "metadata": {},
          "execution_count": 23
        }
      ]
    },
    {
      "cell_type": "code",
      "source": [
        "# return the natural logarithm , but you have first to import it from math library\n",
        "log(intNum)"
      ],
      "metadata": {
        "colab": {
          "base_uri": "https://localhost:8080/"
        },
        "id": "rZG83TSWQHAD",
        "outputId": "bb4f924d-ab5c-4de8-9ae5-7ea9bdff16bf"
      },
      "execution_count": null,
      "outputs": [
        {
          "output_type": "execute_result",
          "data": {
            "text/plain": [
              "1.3862943611198906"
            ]
          },
          "metadata": {},
          "execution_count": 25
        }
      ]
    },
    {
      "cell_type": "code",
      "source": [
        "# return negNum**intNum 'negNum power intNum'\n",
        "pow(negNum,intNum)"
      ],
      "metadata": {
        "colab": {
          "base_uri": "https://localhost:8080/"
        },
        "id": "x577k1A9RGg7",
        "outputId": "95bb9903-86ec-4782-abbc-cc7a2f10ca53"
      },
      "execution_count": null,
      "outputs": [
        {
          "output_type": "execute_result",
          "data": {
            "text/plain": [
              "4096"
            ]
          },
          "metadata": {},
          "execution_count": 26
        }
      ]
    },
    {
      "cell_type": "markdown",
      "source": [
        "# ***IMPORTANT STRING METHODS IN PYTHON PROGRAMMING***"
      ],
      "metadata": {
        "id": "IO6YPIoLUqFF"
      }
    },
    {
      "cell_type": "code",
      "source": [
        "str1 = 'string, string!'\n",
        "# return all the letter of the string upper case\n",
        "str1.upper()"
      ],
      "metadata": {
        "colab": {
          "base_uri": "https://localhost:8080/",
          "height": 35
        },
        "id": "bkdVEBtrRvaO",
        "outputId": "97254cc8-ce7d-48bf-e18d-978c4b3463f2"
      },
      "execution_count": null,
      "outputs": [
        {
          "output_type": "execute_result",
          "data": {
            "text/plain": [
              "'STRING, STRING!'"
            ],
            "application/vnd.google.colaboratory.intrinsic+json": {
              "type": "string"
            }
          },
          "metadata": {},
          "execution_count": 27
        }
      ]
    },
    {
      "cell_type": "code",
      "source": [
        "# lstrip() : only removes characters to the beggining 'left of the string'\n",
        "str2 = \"###Hello, World!###\"\n",
        "str2.lstrip('#')"
      ],
      "metadata": {
        "colab": {
          "base_uri": "https://localhost:8080/",
          "height": 35
        },
        "id": "dRqzz8WWU9rO",
        "outputId": "170d5f98-9722-4144-c964-1ffe5af4e9e2"
      },
      "execution_count": null,
      "outputs": [
        {
          "output_type": "execute_result",
          "data": {
            "text/plain": [
              "'Hello, World!###'"
            ],
            "application/vnd.google.colaboratory.intrinsic+json": {
              "type": "string"
            }
          },
          "metadata": {},
          "execution_count": 1
        }
      ]
    },
    {
      "cell_type": "code",
      "source": [
        "# returns the first index of the specified string\n",
        "str3 = \"Hello, welcome to the world of Python. Python is great!\"\n",
        "print(str3.find(\"Python\"))\n",
        "print(str3.find(\"Python\", 38, -1)) # limit search with index\n",
        "print(str3.find(\"Java\")) # if not found it returns -1"
      ],
      "metadata": {
        "colab": {
          "base_uri": "https://localhost:8080/"
        },
        "id": "jwp1DliEyNjI",
        "outputId": "42f34f19-11ba-42af-e140-2de2f8480012"
      },
      "execution_count": null,
      "outputs": [
        {
          "output_type": "stream",
          "name": "stdout",
          "text": [
            "31\n",
            "39\n",
            "-1\n"
          ]
        }
      ]
    },
    {
      "cell_type": "code",
      "source": [
        "# rfind returns the highest 'right' index of the specified string\n",
        "print(str3.rfind(\"Python\"))\n",
        "print(str3.rfind(\"Python\", 0, 38)) # limit search with index\n",
        "print(str3.rfind(\"Java\")) # if not found it returns -1"
      ],
      "metadata": {
        "id": "BTulc-b1VWI4",
        "colab": {
          "base_uri": "https://localhost:8080/"
        },
        "outputId": "d550ba90-da9d-44ac-bc3a-94e268f4bbd6"
      },
      "execution_count": null,
      "outputs": [
        {
          "output_type": "stream",
          "name": "stdout",
          "text": [
            "39\n",
            "31\n",
            "-1\n"
          ]
        }
      ]
    },
    {
      "cell_type": "code",
      "source": [
        "# replace an old word with a new word\n",
        "print(str3.replace(\"Python\",\"Java\"))\n",
        "# you can also specify the number of replaced words\n",
        "print(str3.replace(\"Python\",\"Java\",1))"
      ],
      "metadata": {
        "colab": {
          "base_uri": "https://localhost:8080/"
        },
        "id": "5HWOYSG7eRoO",
        "outputId": "46ddc421-1117-4502-98d1-fe5a2ed1aa68"
      },
      "execution_count": null,
      "outputs": [
        {
          "output_type": "stream",
          "name": "stdout",
          "text": [
            "Hello, welcome to the world of Java. Java is great!\n",
            "Hello, welcome to the world of Java. Python is great!\n"
          ]
        }
      ]
    },
    {
      "cell_type": "code",
      "source": [
        "# rsplit : to split a text into a list from the left\n",
        "str4 = \"apple,banana,orange,grape\"\n",
        "resultList1 = str4.split(\",\")\n",
        "print(resultList1)\n",
        "# you can also specify the number of splits\n",
        "resultList2 = str4.split(\",\",1)\n",
        "print(resultList2)"
      ],
      "metadata": {
        "colab": {
          "base_uri": "https://localhost:8080/"
        },
        "id": "93o5nHRRgYAz",
        "outputId": "2a0540c2-3d81-4074-cbd6-59df23a18ac1"
      },
      "execution_count": null,
      "outputs": [
        {
          "output_type": "stream",
          "name": "stdout",
          "text": [
            "['apple', 'banana', 'orange', 'grape']\n",
            "['apple', 'banana,orange,grape']\n"
          ]
        }
      ]
    },
    {
      "cell_type": "code",
      "source": [
        "# rsplit : to split a text into a list from the right\n",
        "resultList3 = str4.rsplit(\",\")\n",
        "print(resultList3)\n",
        "# you can also specify the number of splits\n",
        "resultList4 = str4.rsplit(\",\",1)\n",
        "print(resultList4)"
      ],
      "metadata": {
        "colab": {
          "base_uri": "https://localhost:8080/"
        },
        "id": "Q7CqCUYHfchy",
        "outputId": "fe12c0a4-0bd8-461b-cbf4-68e0dcbcfa67"
      },
      "execution_count": null,
      "outputs": [
        {
          "output_type": "stream",
          "name": "stdout",
          "text": [
            "['apple', 'banana', 'orange', 'grape']\n",
            "['apple,banana,orange', 'grape']\n"
          ]
        }
      ]
    },
    {
      "cell_type": "code",
      "source": [
        "# check if the string starts with the specified character\n",
        "str1.startswith(\"s\")"
      ],
      "metadata": {
        "colab": {
          "base_uri": "https://localhost:8080/"
        },
        "id": "Ljcji8X-rHqX",
        "outputId": "51d4a3f2-a761-4888-8f13-6163c606c105"
      },
      "execution_count": null,
      "outputs": [
        {
          "output_type": "execute_result",
          "data": {
            "text/plain": [
              "False"
            ]
          },
          "metadata": {},
          "execution_count": 52
        }
      ]
    },
    {
      "cell_type": "code",
      "source": [
        "# check if the string starts with the specified character\n",
        "str1.endswith(\"!\")"
      ],
      "metadata": {
        "colab": {
          "base_uri": "https://localhost:8080/"
        },
        "id": "opJfDKr3xO7x",
        "outputId": "1c997450-d88d-4aeb-d95a-112744c38bba"
      },
      "execution_count": null,
      "outputs": [
        {
          "output_type": "execute_result",
          "data": {
            "text/plain": [
              "True"
            ]
          },
          "metadata": {},
          "execution_count": 53
        }
      ]
    },
    {
      "cell_type": "code",
      "source": [
        "# strip() : removes the character from the string\n",
        "str5 = \"###Hello, World!###\"\n",
        "str5.strip('#')"
      ],
      "metadata": {
        "colab": {
          "base_uri": "https://localhost:8080/",
          "height": 35
        },
        "id": "Utj520e_r0_t",
        "outputId": "e0804d9c-9096-4315-98eb-ed6b3a66b92b"
      },
      "execution_count": null,
      "outputs": [
        {
          "output_type": "execute_result",
          "data": {
            "text/plain": [
              "'Hello, World!'"
            ],
            "application/vnd.google.colaboratory.intrinsic+json": {
              "type": "string"
            }
          },
          "metadata": {},
          "execution_count": 25
        }
      ]
    },
    {
      "cell_type": "code",
      "source": [
        "# makes the first letter capital in all the words\n",
        "str1.title()"
      ],
      "metadata": {
        "colab": {
          "base_uri": "https://localhost:8080/",
          "height": 35
        },
        "id": "GaKtTQRysQpR",
        "outputId": "3c9f2e99-2cbf-4db0-a0f3-8c21cc2e062b"
      },
      "execution_count": null,
      "outputs": [
        {
          "output_type": "execute_result",
          "data": {
            "text/plain": [
              "'String, String!'"
            ],
            "application/vnd.google.colaboratory.intrinsic+json": {
              "type": "string"
            }
          },
          "metadata": {},
          "execution_count": 28
        }
      ]
    },
    {
      "cell_type": "code",
      "source": [
        "# split the list into a list where every line is a list item\n",
        "str6 = \"Hello,\\n welcome to the world of Python.\\n Python is great!\"\n",
        "resultList5 = str6.splitlines()\n",
        "print(resultList5)"
      ],
      "metadata": {
        "colab": {
          "base_uri": "https://localhost:8080/"
        },
        "id": "3smghCqns23N",
        "outputId": "00b01bb6-4689-4e13-b602-85f64bcea9d8"
      },
      "execution_count": null,
      "outputs": [
        {
          "output_type": "stream",
          "name": "stdout",
          "text": [
            "['Hello,', ' welcome to the world of Python.', ' Python is great!']\n"
          ]
        }
      ]
    },
    {
      "cell_type": "code",
      "source": [
        "# lower() and casefold() both make the string's character in a lower case\n",
        "# but casefold is more aggressive\n",
        "str7 = \"Straße\"\n",
        "print(str7.lower())\n",
        "print(str7.casefold())"
      ],
      "metadata": {
        "colab": {
          "base_uri": "https://localhost:8080/"
        },
        "id": "k8YU2x7gtzUM",
        "outputId": "92170c90-a5ef-4fb2-b7fc-2dc7f8d0f75e"
      },
      "execution_count": null,
      "outputs": [
        {
          "output_type": "stream",
          "name": "stdout",
          "text": [
            "straße\n",
            "strasse\n"
          ]
        }
      ]
    },
    {
      "cell_type": "code",
      "source": [
        "# make only the first character of the string capital\n",
        "str1.capitalize()"
      ],
      "metadata": {
        "colab": {
          "base_uri": "https://localhost:8080/",
          "height": 35
        },
        "id": "sUrpNvYquik6",
        "outputId": "059e24ad-453f-4a6b-d5d0-91b3e2518b78"
      },
      "execution_count": null,
      "outputs": [
        {
          "output_type": "execute_result",
          "data": {
            "text/plain": [
              "'String, string!'"
            ],
            "application/vnd.google.colaboratory.intrinsic+json": {
              "type": "string"
            }
          },
          "metadata": {},
          "execution_count": 34
        }
      ]
    },
    {
      "cell_type": "code",
      "source": [
        "# used to align string in the center within a given width with a specified character\n",
        "print(str1.center(40))\n",
        "print(str1.center(30,'-'))"
      ],
      "metadata": {
        "colab": {
          "base_uri": "https://localhost:8080/"
        },
        "id": "IVZorET_vWbg",
        "outputId": "26657419-a6ed-44c2-eb90-b5b361053a04"
      },
      "execution_count": null,
      "outputs": [
        {
          "output_type": "stream",
          "name": "stdout",
          "text": [
            "            String, string!             \n",
            "-------String, string!--------\n"
          ]
        }
      ]
    },
    {
      "cell_type": "code",
      "source": [
        "# counts how many times this character appeared in the string\n",
        "str6.count('e')"
      ],
      "metadata": {
        "colab": {
          "base_uri": "https://localhost:8080/"
        },
        "id": "0oBGibiNv6gB",
        "outputId": "ae010750-adea-462e-d7ad-5eab3f0c6ec7"
      },
      "execution_count": null,
      "outputs": [
        {
          "output_type": "execute_result",
          "data": {
            "text/plain": [
              "5"
            ]
          },
          "metadata": {},
          "execution_count": 46
        }
      ]
    },
    {
      "cell_type": "code",
      "source": [
        "# used to encode a string using a specified encoding scheme, default is 'utf-8'\n",
        "str8 = \"Hello World! 😊\"\n",
        "print(str8.encode())\n",
        "# the emoji character is ignored because it cannot be encoded using ASCII\n",
        "print(str8.encode(encoding='ascii', errors='ignore'))"
      ],
      "metadata": {
        "colab": {
          "base_uri": "https://localhost:8080/"
        },
        "id": "DFvwdNpJw0Mh",
        "outputId": "a9724900-edb8-4c19-f487-66a115f0fe4c"
      },
      "execution_count": null,
      "outputs": [
        {
          "output_type": "stream",
          "name": "stdout",
          "text": [
            "b'Hello World! \\xf0\\x9f\\x98\\x8a'\n",
            "b'Hello World! '\n"
          ]
        }
      ]
    },
    {
      "cell_type": "code",
      "source": [
        "# used to concatenate and manipulate text\n",
        "str9 = \"Hello, {}. Welcome to {}!\"\n",
        "formatted_str = str9.format(\"Alice\", \"Python\")\n",
        "print(formatted_str)"
      ],
      "metadata": {
        "colab": {
          "base_uri": "https://localhost:8080/"
        },
        "id": "94nEieLF0Inp",
        "outputId": "e5a0b1cf-7850-4217-8749-55b8bffe35eb"
      },
      "execution_count": null,
      "outputs": [
        {
          "output_type": "stream",
          "name": "stdout",
          "text": [
            "Hello, Alice. Welcome to Python!\n"
          ]
        }
      ]
    },
    {
      "cell_type": "code",
      "source": [
        "# returns the index of the first character of the word\n",
        "# if the searched value is not found in the string it gives an error\n",
        "str8.index(\"World\")"
      ],
      "metadata": {
        "colab": {
          "base_uri": "https://localhost:8080/"
        },
        "id": "4sZxDK3z07Dm",
        "outputId": "1e236bcb-6c65-44ed-cb55-3454cb5511b9"
      },
      "execution_count": null,
      "outputs": [
        {
          "output_type": "execute_result",
          "data": {
            "text/plain": [
              "6"
            ]
          },
          "metadata": {},
          "execution_count": 63
        }
      ]
    },
    {
      "cell_type": "code",
      "source": [
        "# checks if all the characters in the string are numbers\n",
        "str10 = \"12345\"\n",
        "str10.isalnum()"
      ],
      "metadata": {
        "colab": {
          "base_uri": "https://localhost:8080/"
        },
        "id": "9pc9G41S1WNT",
        "outputId": "f3a8a36f-8b0e-4fe9-a0a9-675f9ab037b9"
      },
      "execution_count": null,
      "outputs": [
        {
          "output_type": "execute_result",
          "data": {
            "text/plain": [
              "True"
            ]
          },
          "metadata": {},
          "execution_count": 83
        }
      ]
    },
    {
      "cell_type": "code",
      "source": [
        "# checks if all the characters in the string are alphabets\n",
        "str11 = \"Farida\"\n",
        "str11.isalpha()"
      ],
      "metadata": {
        "colab": {
          "base_uri": "https://localhost:8080/"
        },
        "id": "ivgizSqz2MUM",
        "outputId": "7262ddd8-f132-4276-f48c-667da21831bc"
      },
      "execution_count": null,
      "outputs": [
        {
          "output_type": "execute_result",
          "data": {
            "text/plain": [
              "True"
            ]
          },
          "metadata": {},
          "execution_count": 88
        }
      ]
    },
    {
      "cell_type": "code",
      "source": [
        "# checks if if all characters in the string are decimal\n",
        "str10.isdecimal()"
      ],
      "metadata": {
        "colab": {
          "base_uri": "https://localhost:8080/"
        },
        "id": "_s-N4SNz2emS",
        "outputId": "52ed7e4a-f61c-42ad-d37d-4c524ae36737"
      },
      "execution_count": null,
      "outputs": [
        {
          "output_type": "execute_result",
          "data": {
            "text/plain": [
              "True"
            ]
          },
          "metadata": {},
          "execution_count": 73
        }
      ]
    },
    {
      "cell_type": "code",
      "source": [
        "# checks if if all characters in the string are digits\n",
        "str10.isdigit()"
      ],
      "metadata": {
        "colab": {
          "base_uri": "https://localhost:8080/"
        },
        "id": "e-74F3-Q3XVn",
        "outputId": "86e3899e-3a93-426a-f22f-80b309fba83b"
      },
      "execution_count": null,
      "outputs": [
        {
          "output_type": "execute_result",
          "data": {
            "text/plain": [
              "True"
            ]
          },
          "metadata": {},
          "execution_count": 74
        }
      ]
    },
    {
      "cell_type": "code",
      "source": [
        "# used to check if a string is a valid identifier\n",
        "# An identifier is a name used to identify a variable,function,class,... in code\n",
        "str13 = \"variable1\"\n",
        "str14 = \"1variable\"\n",
        "print(str13.isidentifier())\n",
        "print(str14.isidentifier())"
      ],
      "metadata": {
        "colab": {
          "base_uri": "https://localhost:8080/"
        },
        "id": "1YItUoy14Joa",
        "outputId": "712a530a-cb01-486c-c0c1-8aaaf7dae0ad"
      },
      "execution_count": null,
      "outputs": [
        {
          "output_type": "stream",
          "name": "stdout",
          "text": [
            "True\n",
            "False\n"
          ]
        }
      ]
    },
    {
      "cell_type": "code",
      "source": [
        "# checks if all the characters are in lower case\n",
        "str13.islower()"
      ],
      "metadata": {
        "colab": {
          "base_uri": "https://localhost:8080/"
        },
        "id": "E8Ryf6SA480d",
        "outputId": "f715e892-1fb5-4a50-d12d-5c160fd07cbc"
      },
      "execution_count": null,
      "outputs": [
        {
          "output_type": "execute_result",
          "data": {
            "text/plain": [
              "True"
            ]
          },
          "metadata": {},
          "execution_count": 79
        }
      ]
    },
    {
      "cell_type": "code",
      "source": [
        "# checks if all the characters are numbers\n",
        "str10.isnumeric()"
      ],
      "metadata": {
        "colab": {
          "base_uri": "https://localhost:8080/"
        },
        "id": "SnWoHc1W5H5L",
        "outputId": "80b54b6a-0d22-4d4f-e782-65af49738131"
      },
      "execution_count": null,
      "outputs": [
        {
          "output_type": "execute_result",
          "data": {
            "text/plain": [
              "True"
            ]
          },
          "metadata": {},
          "execution_count": 85
        }
      ]
    },
    {
      "cell_type": "code",
      "source": [
        "# checks if the string is space only\n",
        "print(str13.isspace())\n",
        "str15 = \" \"\n",
        "print(str15.isspace())"
      ],
      "metadata": {
        "colab": {
          "base_uri": "https://localhost:8080/"
        },
        "id": "fORw2N-95Tc5",
        "outputId": "07e63cef-1016-497f-da68-cd047b7cedfc"
      },
      "execution_count": null,
      "outputs": [
        {
          "output_type": "stream",
          "name": "stdout",
          "text": [
            "False\n",
            "True\n"
          ]
        }
      ]
    },
    {
      "cell_type": "code",
      "source": [
        "# checks if the string is written as a title means\n",
        "print(str8.istitle())\n",
        "print(str13.istitle())"
      ],
      "metadata": {
        "colab": {
          "base_uri": "https://localhost:8080/"
        },
        "id": "munbn3hb57Ju",
        "outputId": "b3fc94c6-096b-4db1-fac0-7878a834cfde"
      },
      "execution_count": null,
      "outputs": [
        {
          "output_type": "stream",
          "name": "stdout",
          "text": [
            "True\n",
            "False\n"
          ]
        }
      ]
    },
    {
      "cell_type": "code",
      "source": [
        "# checks if all the characters are printable\n",
        "# unprintable characters : \\n , \\t\n",
        "print(str14.isprintable())\n",
        "print(str6.isprintable())"
      ],
      "metadata": {
        "colab": {
          "base_uri": "https://localhost:8080/"
        },
        "id": "3LFnwPSK6RPt",
        "outputId": "1240457f-abe9-4832-8306-b9c5437a6cf6"
      },
      "execution_count": null,
      "outputs": [
        {
          "output_type": "stream",
          "name": "stdout",
          "text": [
            "True\n",
            "False\n"
          ]
        }
      ]
    },
    {
      "cell_type": "code",
      "source": [
        "# checks if all the characters are in lower case\n",
        "str13.isupper()"
      ],
      "metadata": {
        "colab": {
          "base_uri": "https://localhost:8080/"
        },
        "id": "WjlnpgtL7D8d",
        "outputId": "df0f6867-d610-44e4-ae10-2ccc39f89c41"
      },
      "execution_count": null,
      "outputs": [
        {
          "output_type": "execute_result",
          "data": {
            "text/plain": [
              "False"
            ]
          },
          "metadata": {},
          "execution_count": 94
        }
      ]
    },
    {
      "cell_type": "code",
      "source": [
        "# used to concatenate the elements of an iterable (like a list or tuple) into a single string\n",
        "# separator.join(words)\n",
        "str15.join(resultList3)"
      ],
      "metadata": {
        "colab": {
          "base_uri": "https://localhost:8080/",
          "height": 35
        },
        "id": "-_yqZsgm7Kkn",
        "outputId": "02ea76a8-29ca-45bb-a2a9-31e562af2891"
      },
      "execution_count": null,
      "outputs": [
        {
          "output_type": "execute_result",
          "data": {
            "text/plain": [
              "'apple banana orange grape'"
            ],
            "application/vnd.google.colaboratory.intrinsic+json": {
              "type": "string"
            }
          },
          "metadata": {},
          "execution_count": 95
        }
      ]
    },
    {
      "cell_type": "markdown",
      "source": [
        "# **Bitwise**"
      ],
      "metadata": {
        "id": "UksxK1jAI2hx"
      }
    },
    {
      "cell_type": "code",
      "source": [
        "a = 5 # 0b0101\n",
        "b = 3 # 0b0011\n",
        "# bin() function used to convert numbers to binary code\n",
        "print(bin(a))\n",
        "print(bin(b))"
      ],
      "metadata": {
        "colab": {
          "base_uri": "https://localhost:8080/"
        },
        "id": "gCxydRzf73o7",
        "outputId": "f82428fc-a75a-43fa-c9ec-3f40d3a010af"
      },
      "execution_count": null,
      "outputs": [
        {
          "output_type": "stream",
          "name": "stdout",
          "text": [
            "0b101\n",
            "0b11\n"
          ]
        }
      ]
    },
    {
      "cell_type": "code",
      "source": [
        "andResult = a & b # 0b0001\n",
        "print(andResult)\n",
        "print(bin(andResult))"
      ],
      "metadata": {
        "colab": {
          "base_uri": "https://localhost:8080/"
        },
        "id": "puxJSpC-JGz2",
        "outputId": "d5c0f2b6-c5d5-490d-efc3-e65186ce851c"
      },
      "execution_count": null,
      "outputs": [
        {
          "output_type": "stream",
          "name": "stdout",
          "text": [
            "1\n",
            "0b1\n"
          ]
        }
      ]
    },
    {
      "cell_type": "code",
      "source": [
        "orResult = a | b # 0b0111\n",
        "print(orResult)\n",
        "print(bin(orResult))"
      ],
      "metadata": {
        "colab": {
          "base_uri": "https://localhost:8080/"
        },
        "id": "rKfjS08wKtLp",
        "outputId": "3a3acdb2-dfe4-40c2-a504-ee4f3bcc8b56"
      },
      "execution_count": null,
      "outputs": [
        {
          "output_type": "stream",
          "name": "stdout",
          "text": [
            "7\n",
            "0b111\n"
          ]
        }
      ]
    },
    {
      "cell_type": "code",
      "source": [
        "xorResult = a ^ b # 0b0110\n",
        "print(xorResult)\n",
        "print(bin(xorResult))"
      ],
      "metadata": {
        "colab": {
          "base_uri": "https://localhost:8080/"
        },
        "id": "TLBxWnGdLYGC",
        "outputId": "83a99c99-b724-45f7-9b76-bc08b7206449"
      },
      "execution_count": null,
      "outputs": [
        {
          "output_type": "stream",
          "name": "stdout",
          "text": [
            "6\n",
            "0b110\n"
          ]
        }
      ]
    },
    {
      "cell_type": "code",
      "source": [
        "notResult = ~ a # 0b1010 in 2's complement\n",
        "print(notResult)\n",
        "print(bin(notResult))"
      ],
      "metadata": {
        "colab": {
          "base_uri": "https://localhost:8080/"
        },
        "id": "bWdIWPCTL5Ds",
        "outputId": "5aa8f0e6-7c6f-4a7d-cebc-849ddaa3991d"
      },
      "execution_count": null,
      "outputs": [
        {
          "output_type": "stream",
          "name": "stdout",
          "text": [
            "-6\n",
            "-0b110\n"
          ]
        }
      ]
    },
    {
      "cell_type": "code",
      "source": [
        "rightShift = a << 1 # will be shifted right by 1 0b1010\n",
        "print(rightShift)\n",
        "print(bin(rightShift))"
      ],
      "metadata": {
        "colab": {
          "base_uri": "https://localhost:8080/"
        },
        "id": "bm8rqbfmMJZj",
        "outputId": "d8388b84-3189-4ba0-9fd0-2bcd1d758e90"
      },
      "execution_count": null,
      "outputs": [
        {
          "output_type": "stream",
          "name": "stdout",
          "text": [
            "10\n",
            "0b1010\n"
          ]
        }
      ]
    },
    {
      "cell_type": "code",
      "source": [
        "leftShift = a >> 1 # will be shifted left by 1 0b0010\n",
        "print(leftShift)\n",
        "print(bin(leftShift))"
      ],
      "metadata": {
        "colab": {
          "base_uri": "https://localhost:8080/"
        },
        "id": "_qTkqsa8Mo_m",
        "outputId": "e53c04b8-e0eb-42ff-de97-ba56b1806ca6"
      },
      "execution_count": null,
      "outputs": [
        {
          "output_type": "stream",
          "name": "stdout",
          "text": [
            "2\n",
            "0b10\n"
          ]
        }
      ]
    },
    {
      "cell_type": "code",
      "source": [],
      "metadata": {
        "id": "r5B_Jt1uNOBR"
      },
      "execution_count": null,
      "outputs": []
    }
  ]
}