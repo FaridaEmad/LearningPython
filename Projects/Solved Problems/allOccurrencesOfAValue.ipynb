{
  "nbformat": 4,
  "nbformat_minor": 0,
  "metadata": {
    "colab": {
      "provenance": []
    },
    "kernelspec": {
      "name": "python3",
      "display_name": "Python 3"
    },
    "language_info": {
      "name": "python"
    }
  },
  "cells": [
    {
      "cell_type": "code",
      "execution_count": null,
      "metadata": {
        "id": "xTZwHSwXvkFU"
      },
      "outputs": [],
      "source": [
        "def allOccurrences(val, tpl):\n",
        "  indecies = []\n",
        "  tplSize = len(tpl)\n",
        "  for i in range(tplSize):\n",
        "    if tpl[i] == 99:\n",
        "      indecies.append(i)\n",
        "  return indecies;"
      ]
    },
    {
      "cell_type": "code",
      "source": [
        "tpl = (8888,99, 2, 3, 4, 5, 99, 2, 3, 4, 5)\n",
        "item = input(\"Enter a number to know all indecies:\")\n",
        "inds = allOccurrences(int(item), tpl)\n",
        "print(inds)"
      ],
      "metadata": {
        "colab": {
          "base_uri": "https://localhost:8080/"
        },
        "id": "AQeD86sLwdLs",
        "outputId": "747844b4-c178-4443-eda0-73ba1c870f5c"
      },
      "execution_count": null,
      "outputs": [
        {
          "output_type": "stream",
          "name": "stdout",
          "text": [
            "Enter a number to know all indecies:99\n",
            "[1, 6]\n"
          ]
        }
      ]
    },
    {
      "cell_type": "code",
      "source": [],
      "metadata": {
        "id": "wAElajYKzknK"
      },
      "execution_count": null,
      "outputs": []
    }
  ]
}