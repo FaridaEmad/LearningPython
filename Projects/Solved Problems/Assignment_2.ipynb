{
  "cells": [
    {
      "cell_type": "markdown",
      "metadata": {
        "id": "trojjrGliZYg"
      },
      "source": [
        "## Python Task 2"
      ]
    },
    {
      "cell_type": "markdown",
      "metadata": {
        "id": "fT62oiwbiZYi"
      },
      "source": [
        "### Question: Extract and Analyze List Slices\n",
        "\n",
        "**Description:** Given a list of tuples, where each tuple contains information about a product (product name, price, and quantity), write a program that extracts the product names and prints the names of products with prices above a certain threshold using list slicing and if statements.\n",
        "\n",
        "The threshold should be set within your code."
      ]
    },
    {
      "cell_type": "code",
      "execution_count": null,
      "metadata": {
        "id": "CxUxs3uxiZYk"
      },
      "outputs": [],
      "source": [
        "'''\n",
        "# Example Input:\n",
        "products = [\n",
        "    (\"Laptop\", 1200, 5),\n",
        "    (\"Smartphone\", 700, 10),\n",
        "    (\"Headphones\", 150, 15),\n",
        "    (\"Monitor\", 300, 7)\n",
        "]\n",
        "threshold = 500\n",
        "\n",
        "# Expected Output:\n",
        "Products above the price threshold: ['Laptop', 'Smartphone']\n",
        "'''"
      ]
    },
    {
      "cell_type": "code",
      "execution_count": null,
      "metadata": {
        "colab": {
          "base_uri": "https://localhost:8080/"
        },
        "id": "k6YomxgOiZYm",
        "outputId": "8ad14260-2c8c-493b-885f-e2332bd54c2f"
      },
      "outputs": [
        {
          "output_type": "stream",
          "name": "stdout",
          "text": [
            "Products above the price threshold: ['Laptop', 'Smartphone']\n"
          ]
        }
      ],
      "source": [
        "products = [\n",
        "    (\"Laptop\", 1200, 5),\n",
        "    (\"Smartphone\", 700, 10),\n",
        "    (\"Headphones\", 150, 15),\n",
        "    (\"Monitor\", 300, 7)\n",
        "]\n",
        "threshold = 500\n",
        "\n",
        "result = []\n",
        "for product in products:\n",
        "  if product[1] > threshold:\n",
        "    result.append(product[0])\n",
        "\n",
        "print(f\"Products above the price threshold: {result}\")\n"
      ]
    },
    {
      "cell_type": "markdown",
      "metadata": {
        "id": "azzJfekkiZYn"
      },
      "source": [
        "### Question: Update Dictionary with Tuple Data\n",
        "Description: You have a dictionary where keys are employee IDs and values are their current salaries. You also have a list of tuples where each tuple contains an employee ID and a percentage increment to their salary. Write code to update the salaries in the dictionary based on the increment provided in the list of tuples.\n",
        "\n",
        "Use if statements to ensure that only existing employees in the dictionary are updated."
      ]
    },
    {
      "cell_type": "code",
      "execution_count": null,
      "metadata": {
        "id": "stmVRXnEiZYo"
      },
      "outputs": [],
      "source": [
        "'''\n",
        "# Example Input:\n",
        "salaries = {\n",
        "    101: 50000,\n",
        "    102: 60000,\n",
        "    103: 55000\n",
        "}\n",
        "increments = [\n",
        "    (101, 10),  # 10% increment\n",
        "    (104, 5),   # 5% increment, not in salaries\n",
        "    (102, 15)\n",
        "]\n",
        "\n",
        "# Expected Output:\n",
        "Updated salaries: {101: 55000, 102: 69000, 103: 55000}\n",
        "'''"
      ]
    },
    {
      "cell_type": "code",
      "execution_count": null,
      "metadata": {
        "colab": {
          "base_uri": "https://localhost:8080/"
        },
        "id": "F4iIeIpaiZYp",
        "outputId": "6143c70f-052f-4a7a-88bd-d11d9f10807b"
      },
      "outputs": [
        {
          "output_type": "stream",
          "name": "stdout",
          "text": [
            "Updated salaries: {101: 55000, 102: 69000, 103: 55000}\n"
          ]
        }
      ],
      "source": [
        "salaries = {\n",
        "    101: 50000,\n",
        "    102: 60000,\n",
        "    103: 55000\n",
        "}\n",
        "increments = [\n",
        "    (101, 10),  # 10% increment\n",
        "    (104, 5),   # 5% increment, not in salaries\n",
        "    (102, 15)\n",
        "]\n",
        "\n",
        "for id , inc in increments:\n",
        "  if id in salaries:\n",
        "    salaries[id] = salaries[id] + int(salaries[id] * inc / 100)\n",
        "\n",
        "print(f\"Updated salaries: {salaries}\")"
      ]
    },
    {
      "cell_type": "code",
      "source": [],
      "metadata": {
        "id": "XcjpddAOk9ud"
      },
      "execution_count": null,
      "outputs": []
    }
  ],
  "metadata": {
    "kernelspec": {
      "display_name": "base",
      "language": "python",
      "name": "python3"
    },
    "language_info": {
      "codemirror_mode": {
        "name": "ipython",
        "version": 3
      },
      "file_extension": ".py",
      "mimetype": "text/x-python",
      "name": "python",
      "nbconvert_exporter": "python",
      "pygments_lexer": "ipython3",
      "version": "3.11.5"
    },
    "colab": {
      "provenance": []
    }
  },
  "nbformat": 4,
  "nbformat_minor": 0
}