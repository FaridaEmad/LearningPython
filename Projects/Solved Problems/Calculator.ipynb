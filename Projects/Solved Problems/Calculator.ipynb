{
  "nbformat": 4,
  "nbformat_minor": 0,
  "metadata": {
    "colab": {
      "provenance": []
    },
    "kernelspec": {
      "name": "python3",
      "display_name": "Python 3"
    },
    "language_info": {
      "name": "python"
    }
  },
  "cells": [
    {
      "cell_type": "code",
      "execution_count": 1,
      "metadata": {
        "id": "Ls3hyWGSytAN"
      },
      "outputs": [],
      "source": [
        "def add(num1,num2):\n",
        "  return num1 + num2\n",
        "\n",
        "def sub(num1,num2):\n",
        "  return num1 - num2\n",
        "\n",
        "def mult(num1,num2):\n",
        "  return num1 * num2\n",
        "\n",
        "def div(num1,num2):\n",
        "  return num1 / num2"
      ]
    },
    {
      "cell_type": "code",
      "source": [
        "repeat = True\n",
        "\n",
        "while repeat:\n",
        "  print(\"'add' : '+' \\n'sub' : '-' \\n'mult' : 'x' \\n'div' : '/' \\n\")\n",
        "  oper = input(\"Please enter the command for the needed operation:\")\n",
        "  first = float(input(\"Please enter the first number\"))\n",
        "  second = float(input(\"Please enter the second number\"))\n",
        "\n",
        "  if oper == \"add\":\n",
        "    result = add(first, second)\n",
        "  elif oper == \"sub\":\n",
        "    result = sub(first, second)\n",
        "  elif oper == \"mult\":\n",
        "    result = mult(first, second)\n",
        "  elif oper == \"div\":\n",
        "    result = div(first, second)\n",
        "  else:\n",
        "    result = \"Please enter a valid command\"\n",
        "\n",
        "  print(\"Result = \", result)\n",
        "\n",
        "  print(\"Do you want to make another operation? \")\n",
        "  again = input(\"Enter 'yes' for another one and 'stop' to end\")\n",
        "\n",
        "  if again == \"stop\":\n",
        "    repeat = False\n",
        "\n"
      ],
      "metadata": {
        "colab": {
          "base_uri": "https://localhost:8080/"
        },
        "id": "CpM4UQqPzOu0",
        "outputId": "1125b0c6-2681-4c63-c9f3-7df2242bc0bd"
      },
      "execution_count": 5,
      "outputs": [
        {
          "name": "stdout",
          "output_type": "stream",
          "text": [
            "'add' : '+' \n",
            "'sub' : '-' \n",
            "'mult' : 'x' \n",
            "'div' : '/' \n",
            "\n",
            "Please enter the command for the needed operation:add\n",
            "Please enter the first number4\n",
            "Please enter the second number9\n",
            "Result =  13.0\n",
            "Do you want to make another operation? \n",
            "Enter 'yes' for another one and 'stop' to endyes\n",
            "'add' : '+' \n",
            "'sub' : '-' \n",
            "'mult' : 'x' \n",
            "'div' : '/' \n",
            "\n",
            "Please enter the command for the needed operation:mult\n",
            "Please enter the first number3\n",
            "Please enter the second number5\n",
            "Result =  15.0\n",
            "Do you want to make another operation? \n",
            "Enter 'yes' for another one and 'stop' to endstop\n"
          ]
        }
      ]
    },
    {
      "cell_type": "code",
      "source": [],
      "metadata": {
        "id": "B8NBQsI72XtQ"
      },
      "execution_count": null,
      "outputs": []
    }
  ]
}