{
  "nbformat": 4,
  "nbformat_minor": 0,
  "metadata": {
    "colab": {
      "provenance": []
    },
    "kernelspec": {
      "name": "python3",
      "display_name": "Python 3"
    },
    "language_info": {
      "name": "python"
    }
  },
  "cells": [
    {
      "cell_type": "code",
      "execution_count": 7,
      "metadata": {
        "id": "QepfXBz6EPpn"
      },
      "outputs": [],
      "source": [
        "def Take_user_info():\n",
        "  fname = input(\"Please enter your first name: \")\n",
        "  lname = input(\"Please enter your last name: \")\n",
        "  gender = input(\"Please enter your gender 'M' or 'F': \")\n",
        "  id = input(\"Please enter your ID 'It has to be 3 numbers'\")\n",
        "  falseID = True\n",
        "\n",
        "  while falseID:\n",
        "    if id.isdigit() and len(id) == 3:\n",
        "      falseID = False\n",
        "    else:\n",
        "      id = input(\"Try again! 'It has to be 3 numbers'\")\n",
        "\n",
        "  with open('/content/'+lname, 'w') as file:\n",
        "    file.write(fname+\"\\n\")\n",
        "    file.write(lname+\"\\n\")\n",
        "    file.write(gender+\"\\n\")\n",
        "    file.write(id+\"\\n\")"
      ]
    },
    {
      "cell_type": "code",
      "source": [
        "Take_user_info()"
      ],
      "metadata": {
        "colab": {
          "base_uri": "https://localhost:8080/"
        },
        "id": "535e_YPvGciV",
        "outputId": "b4c5c79f-32b5-44f8-f9ee-fa5b744bf71e"
      },
      "execution_count": 8,
      "outputs": [
        {
          "name": "stdout",
          "output_type": "stream",
          "text": [
            "Please enter your first name: Farida\n",
            "Please enter your last name: Emad\n",
            "Please enter your gender 'M' or 'F': F\n",
            "Please enter your ID 'It has to be 3 numbers'610\n"
          ]
        }
      ]
    },
    {
      "cell_type": "code",
      "source": [],
      "metadata": {
        "id": "2btwV16sGhq5"
      },
      "execution_count": null,
      "outputs": []
    }
  ]
}