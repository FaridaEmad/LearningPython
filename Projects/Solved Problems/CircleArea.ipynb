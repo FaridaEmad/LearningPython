{
  "nbformat": 4,
  "nbformat_minor": 0,
  "metadata": {
    "colab": {
      "provenance": []
    },
    "kernelspec": {
      "name": "python3",
      "display_name": "Python 3"
    },
    "language_info": {
      "name": "python"
    }
  },
  "cells": [
    {
      "cell_type": "code",
      "execution_count": 12,
      "metadata": {
        "id": "6N_ok-XWYF4a"
      },
      "outputs": [],
      "source": [
        "import math\n",
        "def calCircleArea(r):\n",
        "  area = math.pi * r ** 2\n",
        "  return area"
      ]
    },
    {
      "cell_type": "code",
      "source": [
        "ar = calCircleArea(5)\n",
        "print(ar)"
      ],
      "metadata": {
        "colab": {
          "base_uri": "https://localhost:8080/"
        },
        "id": "nrjmFtZjaGfF",
        "outputId": "572095f6-1a4e-40e4-888b-ae4dbd569d72"
      },
      "execution_count": 13,
      "outputs": [
        {
          "output_type": "stream",
          "name": "stdout",
          "text": [
            "78.53981633974483\n"
          ]
        }
      ]
    },
    {
      "cell_type": "code",
      "source": [],
      "metadata": {
        "id": "RMcF-jL2o3A8"
      },
      "execution_count": null,
      "outputs": []
    }
  ]
}