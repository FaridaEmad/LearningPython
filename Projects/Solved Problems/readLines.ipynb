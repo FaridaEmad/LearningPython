{
  "nbformat": 4,
  "nbformat_minor": 0,
  "metadata": {
    "colab": {
      "provenance": []
    },
    "kernelspec": {
      "name": "python3",
      "display_name": "Python 3"
    },
    "language_info": {
      "name": "python"
    }
  },
  "cells": [
    {
      "cell_type": "code",
      "execution_count": 4,
      "metadata": {
        "id": "RwCosCDbwvFq"
      },
      "outputs": [],
      "source": [
        "with open('/content/text','r') as file:\n",
        "  lines = file.readlines()"
      ]
    },
    {
      "cell_type": "code",
      "source": [
        "lines"
      ],
      "metadata": {
        "colab": {
          "base_uri": "https://localhost:8080/"
        },
        "id": "Wc5nVpjGxkPo",
        "outputId": "51c4b581-0e50-4c3e-f622-608827a02a5b"
      },
      "execution_count": 5,
      "outputs": [
        {
          "output_type": "execute_result",
          "data": {
            "text/plain": [
              "['Farida\\n', 'Emad\\n', 'Eldin\\n', 'Elsayed\\n', 'Abdelhamid']"
            ]
          },
          "metadata": {},
          "execution_count": 5
        }
      ]
    },
    {
      "cell_type": "code",
      "source": [],
      "metadata": {
        "id": "DfebX7uSx6bG"
      },
      "execution_count": null,
      "outputs": []
    }
  ]
}