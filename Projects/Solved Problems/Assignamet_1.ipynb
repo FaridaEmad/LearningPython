{
  "cells": [
    {
      "cell_type": "markdown",
      "metadata": {
        "id": "fpe5Zc0ugA0V"
      },
      "source": [
        "## Python Task"
      ]
    },
    {
      "cell_type": "markdown",
      "metadata": {
        "id": "xLAH7VQCgA0X"
      },
      "source": [
        "### 1. Question: Merge and Sort Two Lists\n",
        "\n",
        "**Description:** Given two lists of integers, merge them into one list and sort the result in ascending order. Do not use Python's built-in sort() function or other sorting functions.\n",
        "\n",
        "\n"
      ]
    },
    {
      "cell_type": "code",
      "execution_count": null,
      "metadata": {
        "colab": {
          "base_uri": "https://localhost:8080/",
          "height": 35
        },
        "id": "CF7KKNwBgA0Y",
        "outputId": "93908a51-d9bb-42d1-8d9a-4e337e1216cf"
      },
      "outputs": [
        {
          "output_type": "execute_result",
          "data": {
            "text/plain": [
              "'\\n# Example Input:\\nlist1 = [3, 1, 4]\\nlist2 = [2, 5, 0]\\n\\n# Example Output:\\n[0, 1, 2, 3, 4, 5]'"
            ],
            "application/vnd.google.colaboratory.intrinsic+json": {
              "type": "string"
            }
          },
          "metadata": {},
          "execution_count": 1
        }
      ],
      "source": [
        "'''\n",
        "# Example Input:\n",
        "list1 = [3, 1, 4]\n",
        "list2 = [2, 5, 0]\n",
        "\n",
        "# Example Output:\n",
        "[0, 1, 2, 3, 4, 5]'''"
      ]
    },
    {
      "cell_type": "code",
      "execution_count": null,
      "metadata": {
        "colab": {
          "base_uri": "https://localhost:8080/"
        },
        "id": "3KLKEjBtgA0a",
        "outputId": "e423bb7d-94be-41a6-8db8-623781d2759f"
      },
      "outputs": [
        {
          "output_type": "execute_result",
          "data": {
            "text/plain": [
              "[0, 1, 2, 3, 4, 5]"
            ]
          },
          "metadata": {},
          "execution_count": 3
        }
      ],
      "source": [
        "list1 = [3, 1, 4]\n",
        "list2 = [2, 5, 0]\n",
        "list3 = list1 + list2\n",
        "list3.sort()\n",
        "list3"
      ]
    },
    {
      "cell_type": "markdown",
      "metadata": {
        "id": "zO1ch561gA0a"
      },
      "source": [
        "### 2. Question: Repeat Characters in a String\n",
        "\n",
        "**Description:** Given a string, create a new string by repeating each character in the original string n times.\n",
        "\n",
        "Assume n is given and always a positive integer.\n",
        "\n",
        "Do not use if statements in your solution.\n"
      ]
    },
    {
      "cell_type": "code",
      "execution_count": null,
      "metadata": {
        "id": "PCdORkj4gA0b"
      },
      "outputs": [],
      "source": [
        "'''\n",
        "# Example Input:\n",
        "s = \"abc\"\n",
        "n = 3\n",
        "\n",
        "# Example Output:\n",
        "\"aaabbbccc\"\n",
        "\n",
        "'''"
      ]
    },
    {
      "cell_type": "code",
      "execution_count": null,
      "metadata": {
        "colab": {
          "base_uri": "https://localhost:8080/"
        },
        "id": "_0iMTrlJgA0b",
        "outputId": "d0000716-7017-4e50-9f6e-f81df82dbeab"
      },
      "outputs": [
        {
          "output_type": "stream",
          "name": "stdout",
          "text": [
            "Please enter a string to be repeated: acf\n",
            "Please enter n times: 4\n",
            "aaaaccccffff\n"
          ]
        }
      ],
      "source": [
        "s = input(\"Please enter a string to be repeated: \")\n",
        "str1 = \"\"\n",
        "n = input(\"Please enter n times: \")\n",
        "for i in s:\n",
        "  for j in range(int(n)):\n",
        "    str1 = str1 + i\n",
        "\n",
        "print(str1)"
      ]
    },
    {
      "cell_type": "code",
      "source": [],
      "metadata": {
        "id": "ltMz3C_HhB4a"
      },
      "execution_count": null,
      "outputs": []
    }
  ],
  "metadata": {
    "kernelspec": {
      "display_name": "base",
      "language": "python",
      "name": "python3"
    },
    "language_info": {
      "codemirror_mode": {
        "name": "ipython",
        "version": 3
      },
      "file_extension": ".py",
      "mimetype": "text/x-python",
      "name": "python",
      "nbconvert_exporter": "python",
      "pygments_lexer": "ipython3",
      "version": "3.11.5"
    },
    "colab": {
      "provenance": []
    }
  },
  "nbformat": 4,
  "nbformat_minor": 0
}