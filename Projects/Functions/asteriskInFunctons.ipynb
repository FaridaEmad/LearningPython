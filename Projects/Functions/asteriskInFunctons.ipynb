{
  "nbformat": 4,
  "nbformat_minor": 0,
  "metadata": {
    "colab": {
      "provenance": []
    },
    "kernelspec": {
      "name": "python3",
      "display_name": "Python 3"
    },
    "language_info": {
      "name": "python"
    }
  },
  "cells": [
    {
      "cell_type": "code",
      "execution_count": null,
      "metadata": {
        "colab": {
          "base_uri": "https://localhost:8080/"
        },
        "id": "Y3jl7tvXmCt8",
        "outputId": "d448ace5-1d95-4855-9409-3447d785ea3f"
      },
      "outputs": [
        {
          "output_type": "execute_result",
          "data": {
            "text/plain": [
              "6"
            ]
          },
          "metadata": {},
          "execution_count": 4
        }
      ],
      "source": [
        "# Using * in a function's parameter list allows the function to accept an arbitrary number of positional arguments.\n",
        "# These arguments are packed into a tuple\n",
        "\n",
        "def sumAll (*args):\n",
        "  return sum(args)\n",
        "# args is a tuple containing all arguments\n",
        "sumAll(1,2,3)"
      ]
    },
    {
      "cell_type": "code",
      "source": [
        "# Placing a * by itself in the parameter list forces all subsequent arguments to be passed as keyword arguments\n",
        "\n",
        "def func(a,b,*,c,d):\n",
        "  print(a,b,c,d)\n",
        "\n",
        "func(1,2,c=3,d=4)"
      ],
      "metadata": {
        "colab": {
          "base_uri": "https://localhost:8080/"
        },
        "id": "kLu4GJVtNPRg",
        "outputId": "629df1a3-4554-41fd-f1bb-9630804f9046"
      },
      "execution_count": null,
      "outputs": [
        {
          "output_type": "stream",
          "name": "stdout",
          "text": [
            "1 2 3 4\n"
          ]
        }
      ]
    },
    {
      "cell_type": "code",
      "source": [
        "# When calling a function, * can be used to unpack a sequence or iterable into separate positional arguments\n",
        "\n",
        "def multAll (a,b,c):\n",
        "  return a * b * c\n",
        "\n",
        "nums = [2,3,4]\n",
        "print(multAll(*nums))"
      ],
      "metadata": {
        "colab": {
          "base_uri": "https://localhost:8080/"
        },
        "id": "KPG-Ml4GOPHj",
        "outputId": "30155d25-35db-446f-ac3b-11e643653114"
      },
      "execution_count": null,
      "outputs": [
        {
          "output_type": "stream",
          "name": "stdout",
          "text": [
            "24\n"
          ]
        }
      ]
    },
    {
      "cell_type": "code",
      "source": [
        "# Using ** in the parameter list allows the function to accept an arbitrary number of keyword arguments, which are packed into a dictionary\n",
        "\n",
        "def display_info(**kwargs):\n",
        "  for key , value in kwargs.items():\n",
        "    print(f\"{key} : {value}\")\n",
        "\n",
        "# kwargs is a dictionary containing all the additional keyword arguments\n",
        "\n",
        "display_info(name = \"Farida\", age = 21, locaion = \"Cairo\")"
      ],
      "metadata": {
        "colab": {
          "base_uri": "https://localhost:8080/"
        },
        "id": "SZUSaa5YbqKH",
        "outputId": "214b0c94-f429-4c06-b8fb-4750d97fb802"
      },
      "execution_count": null,
      "outputs": [
        {
          "output_type": "stream",
          "name": "stdout",
          "text": [
            "name : Farida\n",
            "age : 21\n",
            "locaion : Cairo\n"
          ]
        }
      ]
    },
    {
      "cell_type": "code",
      "source": [
        "# When calling a function ** can be used to unpack a dictionary into separate keyword arguments\n",
        "\n",
        "def display_info2(name, age, location):\n",
        "  print(f\"Name : {name}\\nAge : {age}\\nLocation : {location}\")\n",
        "\n",
        "info = {\"name\" : \"Farida\", \"age\" : 21, \"location\" : \"Cairo\"}\n",
        "display_info2(**info)"
      ],
      "metadata": {
        "colab": {
          "base_uri": "https://localhost:8080/"
        },
        "id": "4HIC6SnccnAt",
        "outputId": "935bad95-f1ed-43a5-df7b-ade995e409eb"
      },
      "execution_count": null,
      "outputs": [
        {
          "output_type": "stream",
          "name": "stdout",
          "text": [
            "Name : Farida\n",
            "Age : 21\n",
            "Location : Cairo\n"
          ]
        }
      ]
    },
    {
      "cell_type": "code",
      "source": [
        "# You can combine *args and **kwargs in a function definition to accept both arbitrary positional and keyword arguments\n",
        "\n",
        "def func2(a, *args, **kwargs):\n",
        "  print(f\"a : {a}\")\n",
        "  print(f\"args : {args}\")\n",
        "  print(f\"kwargs : {kwargs}\")\n",
        "\n",
        "func2(1, 2, 3, x = 4, y = 5)"
      ],
      "metadata": {
        "colab": {
          "base_uri": "https://localhost:8080/"
        },
        "id": "eOwO2Xk1dpl3",
        "outputId": "d82a232e-6bd7-4410-96a9-e26b4f5f8c0e"
      },
      "execution_count": null,
      "outputs": [
        {
          "output_type": "stream",
          "name": "stdout",
          "text": [
            "a : 1\n",
            "args : (2, 3)\n",
            "kwargs : {'x': 4, 'y': 5}\n"
          ]
        }
      ]
    },
    {
      "cell_type": "code",
      "source": [],
      "metadata": {
        "id": "gUI_2OstejXO"
      },
      "execution_count": null,
      "outputs": []
    }
  ]
}